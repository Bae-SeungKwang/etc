{
  "nbformat": 4,
  "nbformat_minor": 0,
  "metadata": {
    "colab": {
      "provenance": [],
      "authorship_tag": "ABX9TyOLlMengN2spLfQ8AxY7VgD",
      "include_colab_link": true
    },
    "kernelspec": {
      "name": "python3",
      "display_name": "Python 3"
    },
    "language_info": {
      "name": "python"
    }
  },
  "cells": [
    {
      "cell_type": "markdown",
      "metadata": {
        "id": "view-in-github",
        "colab_type": "text"
      },
      "source": [
        "<a href=\"https://colab.research.google.com/github/Bae-SeungKwang/etc/blob/master/PythonBasic_%EB%B0%B0%EC%8A%B9%EA%B4%91_240330.ipynb\" target=\"_parent\"><img src=\"https://colab.research.google.com/assets/colab-badge.svg\" alt=\"Open In Colab\"/></a>"
      ]
    },
    {
      "cell_type": "code",
      "source": [
        "#Numpy(Numerical Python) 기본: 배열과 벡터 연산\n",
        "\n",
        "#numpy 기본 설정\n",
        "import numpy as np\n",
        "np.random.seed(12345)\n",
        "import matplotlib.pyplot as plt\n",
        "plt.rc('figure', figsize=(10, 6))\n",
        "np.set_printoptions(precision=4, suppress=True)"
      ],
      "metadata": {
        "id": "eD96Y6uQyaXf"
      },
      "execution_count": 2,
      "outputs": []
    },
    {
      "cell_type": "code",
      "source": [
        "#성능 차이를 확인하기 위해 백만개의 정수를 저장하는 Numpy 배열과 파이썬 리스트를 생성한다\n",
        "import numpy as np\n",
        "my_arr = np.arange(1000000)\n",
        "my_list = list(range(1000000))"
      ],
      "metadata": {
        "id": "AeKSkWb50p5i"
      },
      "execution_count": 3,
      "outputs": []
    },
    {
      "cell_type": "code",
      "source": [
        "#각각의 배열과 리스트 원소를 2배한 뒤 소요된 시간을 측정해본다\n",
        "#1번만 돌리면 너무 빨리 끝나서 10번을 반복한 뒤 소요 시간을 측정하였다\n",
        "%time for _ in range(10): my_arr = my_arr * 2\n",
        "%time for _ in range(10): my_list = [x * 2 for x in my_list]\n",
        "# 매트릭스를 사용한 결과가 빠름"
      ],
      "metadata": {
        "colab": {
          "base_uri": "https://localhost:8080/"
        },
        "id": "lHF1nW_30t8O",
        "outputId": "fccbe869-c9af-47e1-b916-8ad8a1b05864"
      },
      "execution_count": 5,
      "outputs": [
        {
          "output_type": "stream",
          "name": "stdout",
          "text": [
            "CPU times: user 12.9 ms, sys: 10.1 ms, total: 23 ms\n",
            "Wall time: 26.7 ms\n",
            "CPU times: user 648 ms, sys: 206 ms, total: 854 ms\n",
            "Wall time: 856 ms\n"
          ]
        }
      ]
    },
    {
      "cell_type": "code",
      "source": [
        "#파이썬 내장 객체의 스칼라 값을 다루는 것과 유사한 방법으로 배치(한번에 대량)계산을 처리하는 방법을 알아보기\n",
        "#우선 Numpy 패키지를 불러오고 임의의 값이 들어있는 작은 배열을 만들어 본다\n",
        "import numpy as np\n",
        "# 랜덤 숫자 생성. 2행 3열짜리 배열을 생성한 후 랜덤한 숫자를 넣는다\n",
        "data1 = np.random.randn(2, 3) # -> Random + Normalization\n",
        "data2 = np.random.rand(2,3)\n",
        "print(data1)\n",
        "print('-'*100)\n",
        "print(data2)"
      ],
      "metadata": {
        "colab": {
          "base_uri": "https://localhost:8080/"
        },
        "id": "Ngqw9bJ-1qbB",
        "outputId": "90d99760-732f-4864-c3d4-8a89bc927fee"
      },
      "execution_count": 6,
      "outputs": [
        {
          "output_type": "stream",
          "name": "stdout",
          "text": [
            "[[-0.2047  0.4789 -0.5194]\n",
            " [-0.5557  1.9658  1.3934]]\n",
            "----------------------------------------------------------------------------------------------------\n",
            "[[0.9645 0.6532 0.7489]\n",
            " [0.6536 0.7477 0.9613]]\n"
          ]
        }
      ]
    },
    {
      "cell_type": "code",
      "source": [
        "#생성된 배열에 들어있는 데이터를 산술연산 해본다\n",
        "#아래의 예제는 배열의 모든 원소를 10배 한 것이다\n",
        "data1 * 10"
      ],
      "metadata": {
        "colab": {
          "base_uri": "https://localhost:8080/"
        },
        "id": "6TERJRvF2pod",
        "outputId": "b5151098-1193-4267-d665-233a15fbb0cc"
      },
      "execution_count": 7,
      "outputs": [
        {
          "output_type": "execute_result",
          "data": {
            "text/plain": [
              "array([[-2.0471,  4.7894, -5.1944],\n",
              "       [-5.5573, 19.6578, 13.9341]])"
            ]
          },
          "metadata": {},
          "execution_count": 7
        }
      ]
    },
    {
      "cell_type": "code",
      "source": [
        "#이제 배열의 모든 원소에 1을 더한다\n",
        "#이런식으로 (배열 연산자 피연산자) 형식을 사용하면 배열의 모든 원소에 해당 연산자에 해당하는 연산이 적용된다\n",
        "data1 + 1"
      ],
      "metadata": {
        "colab": {
          "base_uri": "https://localhost:8080/"
        },
        "id": "BZTqaNhZ2vSH",
        "outputId": "1c561b45-9903-4f4c-c1b7-a3ec0efbc816"
      },
      "execution_count": 8,
      "outputs": [
        {
          "output_type": "execute_result",
          "data": {
            "text/plain": [
              "array([[0.7953, 1.4789, 0.4806],\n",
              "       [0.4443, 2.9658, 2.3934]])"
            ]
          },
          "metadata": {},
          "execution_count": 8
        }
      ]
    },
    {
      "cell_type": "code",
      "source": [
        "# ndarray는 같은 종류의 데이터를 담을 수 있는 포괄적인 다차원 배열이다.\n",
        "# ndarray의 모든 원소는 같은 자료형이어야 한다. 모든 배열은 각 차원의 크기를 알려주는 shape라는 튜플과 배열\n",
        "# data로 명명된 배열의 각 차원의 크기는 2행 3열이므로 (2,3), 배열에 저장된 자료형은 64비트 float 형태이다\n",
        "print(data1.shape, data1.dtype)"
      ],
      "metadata": {
        "colab": {
          "base_uri": "https://localhost:8080/"
        },
        "id": "AQ4pmcz622qI",
        "outputId": "8a77dcb0-1758-457d-a786-34d503ecf8cd"
      },
      "execution_count": 9,
      "outputs": [
        {
          "output_type": "stream",
          "name": "stdout",
          "text": [
            "(2, 3) float64\n"
          ]
        }
      ]
    },
    {
      "cell_type": "code",
      "source": [
        "# 1.3 ndarray 생성하기\n",
        "# 리스트(list): 파이썬의 기본 자료형으로 제공되는 리스트\n",
        "# 배열(array): numpy에서 제공하는 고유 자료형 ndarray\n",
        "# 배열(ndarray)을 생성하는 가장 쉬운 방법은 numpy의 array 함수를 이용하는 것이다.\n",
        "\n",
        "# ndarray로 변환될 파이선의 기본 자료형인 리스트\n",
        "data1 = [6,7.5,8,0,1]\n",
        "\n",
        "# np.array(리스트) 형식으로 넣어주면 ndarray로 변경된다\n",
        "arr1 = np.array(data1)\n",
        "\n",
        "# arr1을 출력해보면 array[6,...] 형식으로 array라는 자료형으로 변경되었다는 안내문이 나온다\n",
        "arr1"
      ],
      "metadata": {
        "colab": {
          "base_uri": "https://localhost:8080/"
        },
        "id": "YqrSjhwT3zAM",
        "outputId": "904da286-7be5-4e91-bbcb-e47445722c97"
      },
      "execution_count": 14,
      "outputs": [
        {
          "output_type": "execute_result",
          "data": {
            "text/plain": [
              "array([6. , 7.5, 8. , 0. , 1. ])"
            ]
          },
          "metadata": {},
          "execution_count": 14
        }
      ]
    },
    {
      "cell_type": "code",
      "source": [
        "#같은 길이를 가지는 리스트를 포함하고 있는 순차 데이터는 다차원 배열로 변환 가능하다\n",
        "data2 = [[1, 2, 3, 4], [5, 6, 7, 8]]\n",
        "arr2 = np.array(data2)\n",
        "# 2행 4열 형태의 배열로 전환되었다. 2행 4열이라는 형태는 그대로 유지된다\n",
        "arr2"
      ],
      "metadata": {
        "colab": {
          "base_uri": "https://localhost:8080/"
        },
        "id": "yjxTuxyw4P1d",
        "outputId": "5deec1ce-34e7-483b-ef47-fdda156a0651"
      },
      "execution_count": 15,
      "outputs": [
        {
          "output_type": "execute_result",
          "data": {
            "text/plain": [
              "array([[1, 2, 3, 4],\n",
              "       [5, 6, 7, 8]])"
            ]
          },
          "metadata": {},
          "execution_count": 15
        }
      ]
    },
    {
      "cell_type": "code",
      "source": [
        "#numpy 배열은 ndim, shape 속성을 가지고 있다\n",
        "#ndim 속성은 배열의 차원 수(row의 수)를 의미한다. arr2은 행이 2개이므로 2차원 배열이다.\n",
        "#shape속성은 각 차원의 크기를 의미한다.차원의 크기란 다시 말하면 열의 개수와 같으므로 (행의 개수, 열의 개수)\n",
        "print(arr2.ndim, arr2.shape)"
      ],
      "metadata": {
        "colab": {
          "base_uri": "https://localhost:8080/"
        },
        "id": "X203_FB14Vrn",
        "outputId": "8b4a072f-8054-4bda-c904-96ba10f2fd86"
      },
      "execution_count": 16,
      "outputs": [
        {
          "output_type": "stream",
          "name": "stdout",
          "text": [
            "2 (2, 4)\n"
          ]
        }
      ]
    },
    {
      "cell_type": "code",
      "source": [
        "#dtype은 배열을 구성하는 데이터의 종류를 의미한다\n",
        "#arr1은 64비트 float, arr2는 64비트 int로 구성되어 있다\n",
        "print(arr1.dtype, arr2.dtype)"
      ],
      "metadata": {
        "colab": {
          "base_uri": "https://localhost:8080/"
        },
        "id": "g_c4IZRM4gWP",
        "outputId": "672df34c-3348-4efd-eaeb-375d4428f9cd"
      },
      "execution_count": 17,
      "outputs": [
        {
          "output_type": "stream",
          "name": "stdout",
          "text": [
            "float64 int64\n"
          ]
        }
      ]
    },
    {
      "cell_type": "code",
      "source": [
        "#numpy는 자주 쓰는 특이한 배열을 생성하기 위한 여러함수를 제공한다\n",
        "#zeros 함수는 0으로만 이뤄진 배열을 생성한다. 아래의 코드는 10개의 0으로 이뤄진 배열을 생성한다\n",
        "np.zeros(10)\n",
        "#아래의 코드는 3행 6열 형태의 모든 원소가 0인 배열을 생성한다\n",
        "np.zeros((3, 6))\n",
        "#empty 함수는 초기화되지 않은 배열을 생성한다.\n",
        "#아래의 코드는 3행 2열로 이뤄진 배열을 생성하되 초기화는 되지 않아 무작위 값이 들어있다\n",
        "np.empty((3, 2))"
      ],
      "metadata": {
        "colab": {
          "base_uri": "https://localhost:8080/"
        },
        "id": "wfL_vscS4qbT",
        "outputId": "ba1cad0e-6476-4437-da1f-5da483731934"
      },
      "execution_count": 18,
      "outputs": [
        {
          "output_type": "execute_result",
          "data": {
            "text/plain": [
              "array([[0.9645, 0.6532],\n",
              "       [0.7489, 0.6536],\n",
              "       [0.7477, 0.9613]])"
            ]
          },
          "metadata": {},
          "execution_count": 18
        }
      ]
    },
    {
      "cell_type": "code",
      "source": [
        "#numpy에서 제공하는 arrange 함수는 파이썬의 range함수의 배열 버전이다(기능이 같다)\n",
        "#아래는 0-14까지의 숫자를 웒소로 같은 배열을 생성하는 코드이다\n",
        "print(list(range(15)))\n",
        "print('-'*100)\n",
        "np.arange(15)"
      ],
      "metadata": {
        "colab": {
          "base_uri": "https://localhost:8080/"
        },
        "id": "Dz-Gjdkn4vlh",
        "outputId": "4bf2bba6-1e71-4560-c514-9a2733387728"
      },
      "execution_count": 20,
      "outputs": [
        {
          "output_type": "stream",
          "name": "stdout",
          "text": [
            "[0, 1, 2, 3, 4, 5, 6, 7, 8, 9, 10, 11, 12, 13, 14]\n",
            "----------------------------------------------------------------------------------------------------\n"
          ]
        },
        {
          "output_type": "execute_result",
          "data": {
            "text/plain": [
              "array([ 0,  1,  2,  3,  4,  5,  6,  7,  8,  9, 10, 11, 12, 13, 14])"
            ]
          },
          "metadata": {},
          "execution_count": 20
        }
      ]
    },
    {
      "cell_type": "code",
      "source": [
        "#ndarray의 astype 메서드를 사용하면 배열의 dtype을 다른 형으로 명시적으로 변경 가능하다\n",
        "# 다른 프로그래밍 언어의 casting 기법과 동일한 기능이다\n",
        "arr = np.array([1, 2, 3, 4, 5])\n",
        "print(arr.dtype)\n",
        "# 아래는 astype 메서드를 사용하여 int형 자료를 float64로 변경하고 있다\n",
        "float_arr = arr.astype(np.float64)\n",
        "float_arr.dtype"
      ],
      "metadata": {
        "colab": {
          "base_uri": "https://localhost:8080/"
        },
        "id": "X91YBNzT5Q4K",
        "outputId": "4bd45635-754f-4f02-c9a4-2b99fb601764"
      },
      "execution_count": 22,
      "outputs": [
        {
          "output_type": "stream",
          "name": "stdout",
          "text": [
            "int64\n"
          ]
        },
        {
          "output_type": "execute_result",
          "data": {
            "text/plain": [
              "dtype('float64')"
            ]
          },
          "metadata": {},
          "execution_count": 22
        }
      ]
    },
    {
      "cell_type": "code",
      "source": [
        "#반대로 float 형 데이터를 int형으로 변경하는 것도 가능하다. 소수점 아래 값은 버려진다\n",
        "arr = np.array([3.7, -1.2, -2.6, 0.5, 12.9, 10.1])\n",
        "print(arr)\n",
        "arr.astype(np.int32)"
      ],
      "metadata": {
        "colab": {
          "base_uri": "https://localhost:8080/"
        },
        "id": "aUBPYuGv5P-s",
        "outputId": "dff68058-e703-4e68-c2bf-6be4be9c0098"
      },
      "execution_count": 23,
      "outputs": [
        {
          "output_type": "stream",
          "name": "stdout",
          "text": [
            "[ 3.7 -1.2 -2.6  0.5 12.9 10.1]\n"
          ]
        },
        {
          "output_type": "execute_result",
          "data": {
            "text/plain": [
              "array([ 3, -1, -2,  0, 12, 10], dtype=int32)"
            ]
          },
          "metadata": {},
          "execution_count": 23
        }
      ]
    },
    {
      "cell_type": "code",
      "source": [
        "#1.5 Numpy Array로 연산하기\n",
        "#자기 자신과 곱하는 연산을 하면 곱 연산으로 전환된다\n",
        "#[ 1 2 ] [ 1 2 ] = [ 1 4 ]\n",
        "#  3 4     3 4       9 16\n",
        "\n",
        "arr = np.array([[1,2], [3,4]])\n",
        "arr*arr"
      ],
      "metadata": {
        "colab": {
          "base_uri": "https://localhost:8080/"
        },
        "id": "u4aO9W0_5lLY",
        "outputId": "04c48172-e10a-4fc9-bb80-892b47d0fbc4"
      },
      "execution_count": 25,
      "outputs": [
        {
          "output_type": "execute_result",
          "data": {
            "text/plain": [
              "array([[ 1,  4],\n",
              "       [ 9, 16]])"
            ]
          },
          "metadata": {},
          "execution_count": 25
        }
      ]
    },
    {
      "cell_type": "code",
      "source": [
        "#자기 자신과 더하는 연산을 하면 더하기 연산으로 전환된다\n",
        "arr = np.array([[1,2], [3,4]])\n",
        "arr+arr"
      ],
      "metadata": {
        "colab": {
          "base_uri": "https://localhost:8080/"
        },
        "id": "uHwVPOD451jf",
        "outputId": "95a04b48-24a0-439e-9eb9-1c51ca62252c"
      },
      "execution_count": 27,
      "outputs": [
        {
          "output_type": "execute_result",
          "data": {
            "text/plain": [
              "array([[2, 4],\n",
              "       [6, 8]])"
            ]
          },
          "metadata": {},
          "execution_count": 27
        }
      ]
    },
    {
      "cell_type": "code",
      "source": [
        "# 1.6 색인과 슬라이싱 기초\n",
        "#사용할 배열. 0부터 9까지의 정수가 들어있다\n",
        "arr = np.arange(10)\n",
        "arr"
      ],
      "metadata": {
        "colab": {
          "base_uri": "https://localhost:8080/"
        },
        "id": "h0V6-Lzr59xN",
        "outputId": "7cf058ca-9b48-44b0-962f-33be59e3c328"
      },
      "execution_count": 28,
      "outputs": [
        {
          "output_type": "execute_result",
          "data": {
            "text/plain": [
              "array([0, 1, 2, 3, 4, 5, 6, 7, 8, 9])"
            ]
          },
          "metadata": {},
          "execution_count": 28
        }
      ]
    },
    {
      "cell_type": "code",
      "source": [
        "#3차원 이상의 배열도 기존의 파이선의 3차원 이상의 리스트와 비슷하게 다루면 된다\n",
        "#3차원 배열 생성. 2x2x3 크기의 배열이다\n",
        "arr3d = np.array([[[1, 2, 3], [4, 5, 6]], [[7, 8, 9], [10, 11, 12]]])\n",
        "arr3d"
      ],
      "metadata": {
        "colab": {
          "base_uri": "https://localhost:8080/"
        },
        "id": "nnxCG7fT6Fr8",
        "outputId": "76bafdb1-0059-4395-ee7c-3324ed2c10fb"
      },
      "execution_count": 30,
      "outputs": [
        {
          "output_type": "execute_result",
          "data": {
            "text/plain": [
              "array([[[ 1,  2,  3],\n",
              "        [ 4,  5,  6]],\n",
              "\n",
              "       [[ 7,  8,  9],\n",
              "        [10, 11, 12]]])"
            ]
          },
          "metadata": {},
          "execution_count": 30
        }
      ]
    },
    {
      "cell_type": "code",
      "source": [
        "#arr3d[0]은 첫번째 2x3 배열을 의미한다\n",
        "arr3d[0]"
      ],
      "metadata": {
        "colab": {
          "base_uri": "https://localhost:8080/"
        },
        "id": "Zw_9pHFY6Mjz",
        "outputId": "30f4327b-2c85-4124-a7e5-9bbfdbdd9963"
      },
      "execution_count": 31,
      "outputs": [
        {
          "output_type": "execute_result",
          "data": {
            "text/plain": [
              "array([[1, 2, 3],\n",
              "       [4, 5, 6]])"
            ]
          },
          "metadata": {},
          "execution_count": 31
        }
      ]
    },
    {
      "cell_type": "code",
      "source": [
        "#배열을 복사하려면 배열의 copy() 메소드를 사용한다\n",
        "old_values = arr3d[0].copy()\n",
        "print(old_values)\n",
        "print('----------------------------')\n",
        "#원본 배열을 일부 수정해본다\n",
        "arr3d[0] = 0\n",
        "print(arr3d)\n",
        "print('----------------------------')\n",
        "#다시 원상복구한다\n",
        "arr3d[0] = old_values\n",
        "print(arr3d)"
      ],
      "metadata": {
        "colab": {
          "base_uri": "https://localhost:8080/"
        },
        "id": "laGl4Rkm6ZZN",
        "outputId": "047253d2-889b-4676-e517-14085279925f"
      },
      "execution_count": 32,
      "outputs": [
        {
          "output_type": "stream",
          "name": "stdout",
          "text": [
            "[[1 2 3]\n",
            " [4 5 6]]\n",
            "----------------------------\n",
            "[[[ 0  0  0]\n",
            "  [ 0  0  0]]\n",
            "\n",
            " [[ 7  8  9]\n",
            "  [10 11 12]]]\n",
            "----------------------------\n",
            "[[[ 1  2  3]\n",
            "  [ 4  5  6]]\n",
            "\n",
            " [[ 7  8  9]\n",
            "  [10 11 12]]]\n"
          ]
        }
      ]
    },
    {
      "cell_type": "code",
      "source": [
        "#아래의 출력 예시를 보면서 다차원 배열의 인덱스 사용법을 알아두면된다\n",
        "print(arr3d)\n",
        "print('----------------------------')\n",
        "print(arr3d[1])\n",
        "print('----------------------------')\n",
        "print(arr3d[1][1])\n",
        "print('----------------------------')\n",
        "print(arr3d[1][0])"
      ],
      "metadata": {
        "colab": {
          "base_uri": "https://localhost:8080/"
        },
        "id": "0NhlDhLl7Fii",
        "outputId": "d64514a7-6d33-41eb-de63-1b52ea5ab828"
      },
      "execution_count": 34,
      "outputs": [
        {
          "output_type": "stream",
          "name": "stdout",
          "text": [
            "[[[ 1  2  3]\n",
            "  [ 4  5  6]]\n",
            "\n",
            " [[ 7  8  9]\n",
            "  [10 11 12]]]\n",
            "----------------------------\n",
            "[[ 7  8  9]\n",
            " [10 11 12]]\n",
            "----------------------------\n",
            "[10 11 12]\n",
            "----------------------------\n",
            "[7 8 9]\n"
          ]
        }
      ]
    },
    {
      "cell_type": "code",
      "source": [
        "# 1.6.1 슬라이스로 선택하기\n",
        "#아래에서 사용할 arr은 0-9까지의 숫자가 담겨 있다\n",
        "arr = np.arange(10)\n",
        "arr_slice = arr[:5]\n",
        "print(arr)\n",
        "print('----------------------------')\n",
        "#0-5사이의 원소만 슬라이싱으로 가져온다\n",
        "print(arr_slice)"
      ],
      "metadata": {
        "colab": {
          "base_uri": "https://localhost:8080/"
        },
        "id": "UHmXluyH7Xro",
        "outputId": "49e05baa-d53c-4b90-cb06-95160198a5aa"
      },
      "execution_count": 36,
      "outputs": [
        {
          "output_type": "stream",
          "name": "stdout",
          "text": [
            "[0 1 2 3 4 5 6 7 8 9]\n",
            "----------------------------\n",
            "[0 1 2 3 4]\n"
          ]
        }
      ]
    },
    {
      "cell_type": "code",
      "source": [
        "# 1.6.2 불리안 값으로 선택하기\n",
        "#중복된 이름이 포함된 배열이 있다\n",
        "names = np.array(['Bae', 'Joe', 'Evan', 'Julian', 'Will', 'kim', 'kenneth', 'jamie'])\n",
        "\n",
        "# names 배열에서 값이 'Bob'인것만 골라내기 (해당되면 True, 아니면 False 결과 출력)\n",
        "names == 'Bob'"
      ],
      "metadata": {
        "colab": {
          "base_uri": "https://localhost:8080/"
        },
        "id": "3dxWOUUo8y7D",
        "outputId": "6d27c515-7384-44a0-f906-a71ec7bc6090"
      },
      "execution_count": 40,
      "outputs": [
        {
          "output_type": "execute_result",
          "data": {
            "text/plain": [
              "array([False, False, False, False, False, False, False, False])"
            ]
          },
          "metadata": {},
          "execution_count": 40
        }
      ]
    },
    {
      "cell_type": "code",
      "source": [
        "# != 연산자는 같지 않음을 나타낸다\n",
        "#이름이 'Bae'이 아닌 것\n",
        "print(names[names != 'Bae'])\n",
        "# ~ 연산자는 부정(반대)을 나타낸다\n",
        "# 이름이 'Bob'인 것의 부정(이름이 'Bae'이 아닌 것)을 나타낸다\n",
        "print(names[~(names=='Bae')])"
      ],
      "metadata": {
        "colab": {
          "base_uri": "https://localhost:8080/"
        },
        "id": "sxqKurWl9Ykd",
        "outputId": "0c785643-9368-4e3e-baab-4f057fb3db18"
      },
      "execution_count": 42,
      "outputs": [
        {
          "output_type": "stream",
          "name": "stdout",
          "text": [
            "['Joe' 'Evan' 'Julian' 'Will' 'kim' 'kenneth' 'jamie']\n",
            "['Joe' 'Evan' 'Julian' 'Will' 'kim' 'kenneth' 'jamie']\n"
          ]
        }
      ]
    },
    {
      "cell_type": "code",
      "source": [
        "#여러가지 조건을 동시에 사용하고 싶다면 &(and) 나 | (or) 같은 논리 연산자를 사용하면 된다\n",
        "#이름이 'Bae'이거나 이름이 'kim'인 것만 골라냄\n",
        "mask = (names == 'Bae') | (names == 'kim')\n",
        "print('names =', names)\n",
        "print('mask = ', mask)\n",
        "print('------------------------')\n",
        "print(names[mask])"
      ],
      "metadata": {
        "colab": {
          "base_uri": "https://localhost:8080/"
        },
        "id": "5vfP_bhx9hrx",
        "outputId": "d2fe41a9-c51f-4f75-94ef-c69581166de9"
      },
      "execution_count": 43,
      "outputs": [
        {
          "output_type": "stream",
          "name": "stdout",
          "text": [
            "names = ['Bae' 'Joe' 'Evan' 'Julian' 'Will' 'kim' 'kenneth' 'jamie']\n",
            "mask =  [ True False False False False  True False False]\n",
            "------------------------\n",
            "['Bae' 'kim']\n"
          ]
        }
      ]
    },
    {
      "cell_type": "code",
      "source": [
        "# 1이상 3미만의 숫자를 골라냄\n",
        "arr= np.array([1,2,3,4,5])\n",
        "print(arr)\n",
        "mask = (arr>=1)&(arr<3)\n",
        "print(arr[mask])"
      ],
      "metadata": {
        "colab": {
          "base_uri": "https://localhost:8080/"
        },
        "id": "uiQnhJw293qn",
        "outputId": "f75a9fa9-d1e9-48db-c66c-049733a974ea"
      },
      "execution_count": 44,
      "outputs": [
        {
          "output_type": "stream",
          "name": "stdout",
          "text": [
            "[1 2 3 4 5]\n",
            "[1 2]\n"
          ]
        }
      ]
    }
  ]
}