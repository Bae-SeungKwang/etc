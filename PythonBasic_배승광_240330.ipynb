{
  "nbformat": 4,
  "nbformat_minor": 0,
  "metadata": {
    "colab": {
      "provenance": [],
      "authorship_tag": "ABX9TyOpaASI0OeqnTxglidmklwK",
      "include_colab_link": true
    },
    "kernelspec": {
      "name": "python3",
      "display_name": "Python 3"
    },
    "language_info": {
      "name": "python"
    }
  },
  "cells": [
    {
      "cell_type": "markdown",
      "metadata": {
        "id": "view-in-github",
        "colab_type": "text"
      },
      "source": [
        "<a href=\"https://colab.research.google.com/github/Bae-SeungKwang/etc/blob/master/PythonBasic_%EB%B0%B0%EC%8A%B9%EA%B4%91_240330.ipynb\" target=\"_parent\"><img src=\"https://colab.research.google.com/assets/colab-badge.svg\" alt=\"Open In Colab\"/></a>"
      ]
    },
    {
      "cell_type": "code",
      "source": [
        "#Numpy(Numerical Python) 기본: 배열과 벡터 연산\n",
        "\n",
        "#numpy 기본 설정\n",
        "import numpy as np\n",
        "np.random.seed(12345)\n",
        "import matplotlib.pyplot as plt\n",
        "plt.rc('figure', figsize=(10, 6))\n",
        "np.set_printoptions(precision=4, suppress=True)"
      ],
      "metadata": {
        "id": "eD96Y6uQyaXf"
      },
      "execution_count": 2,
      "outputs": []
    },
    {
      "cell_type": "code",
      "source": [
        "#성능 차이를 확인하기 위해 백만개의 정수를 저장하는 Numpy 배열과 파이썬 리스트를 생성한다\n",
        "import numpy as np\n",
        "my_arr = np.arange(1000000)\n",
        "my_list = list(range(1000000))"
      ],
      "metadata": {
        "id": "AeKSkWb50p5i"
      },
      "execution_count": 3,
      "outputs": []
    },
    {
      "cell_type": "code",
      "source": [
        "#각각의 배열과 리스트 원소를 2배한 뒤 소요된 시간을 측정해본다\n",
        "#1번만 돌리면 너무 빨리 끝나서 10번을 반복한 뒤 소요 시간을 측정하였다\n",
        "%time for _ in range(10): my_arr = my_arr * 2\n",
        "%time for _ in range(10): my_list = [x * 2 for x in my_list]\n",
        "# 매트릭스를 사용한 결과가 빠름"
      ],
      "metadata": {
        "colab": {
          "base_uri": "https://localhost:8080/"
        },
        "id": "lHF1nW_30t8O",
        "outputId": "fccbe869-c9af-47e1-b916-8ad8a1b05864"
      },
      "execution_count": null,
      "outputs": [
        {
          "output_type": "stream",
          "name": "stdout",
          "text": [
            "CPU times: user 12.9 ms, sys: 10.1 ms, total: 23 ms\n",
            "Wall time: 26.7 ms\n",
            "CPU times: user 648 ms, sys: 206 ms, total: 854 ms\n",
            "Wall time: 856 ms\n"
          ]
        }
      ]
    },
    {
      "cell_type": "code",
      "source": [
        "#파이썬 내장 객체의 스칼라 값을 다루는 것과 유사한 방법으로 배치(한번에 대량)계산을 처리하는 방법을 알아보기\n",
        "#우선 Numpy 패키지를 불러오고 임의의 값이 들어있는 작은 배열을 만들어 본다\n",
        "import numpy as np\n",
        "# 랜덤 숫자 생성. 2행 3열짜리 배열을 생성한 후 랜덤한 숫자를 넣는다\n",
        "data1 = np.random.randn(2, 3) # -> Random + Normalization\n",
        "data2 = np.random.rand(2,3)\n",
        "print(data1)\n",
        "print('-'*100)\n",
        "print(data2)"
      ],
      "metadata": {
        "colab": {
          "base_uri": "https://localhost:8080/"
        },
        "id": "Ngqw9bJ-1qbB",
        "outputId": "90d99760-732f-4864-c3d4-8a89bc927fee"
      },
      "execution_count": null,
      "outputs": [
        {
          "output_type": "stream",
          "name": "stdout",
          "text": [
            "[[-0.2047  0.4789 -0.5194]\n",
            " [-0.5557  1.9658  1.3934]]\n",
            "----------------------------------------------------------------------------------------------------\n",
            "[[0.9645 0.6532 0.7489]\n",
            " [0.6536 0.7477 0.9613]]\n"
          ]
        }
      ]
    },
    {
      "cell_type": "code",
      "source": [
        "#생성된 배열에 들어있는 데이터를 산술연산 해본다\n",
        "#아래의 예제는 배열의 모든 원소를 10배 한 것이다\n",
        "data1 * 10"
      ],
      "metadata": {
        "colab": {
          "base_uri": "https://localhost:8080/"
        },
        "id": "6TERJRvF2pod",
        "outputId": "b5151098-1193-4267-d665-233a15fbb0cc"
      },
      "execution_count": null,
      "outputs": [
        {
          "output_type": "execute_result",
          "data": {
            "text/plain": [
              "array([[-2.0471,  4.7894, -5.1944],\n",
              "       [-5.5573, 19.6578, 13.9341]])"
            ]
          },
          "metadata": {},
          "execution_count": 7
        }
      ]
    },
    {
      "cell_type": "code",
      "source": [
        "#이제 배열의 모든 원소에 1을 더한다\n",
        "#이런식으로 (배열 연산자 피연산자) 형식을 사용하면 배열의 모든 원소에 해당 연산자에 해당하는 연산이 적용된다\n",
        "data1 + 1"
      ],
      "metadata": {
        "colab": {
          "base_uri": "https://localhost:8080/"
        },
        "id": "BZTqaNhZ2vSH",
        "outputId": "1c561b45-9903-4f4c-c1b7-a3ec0efbc816"
      },
      "execution_count": null,
      "outputs": [
        {
          "output_type": "execute_result",
          "data": {
            "text/plain": [
              "array([[0.7953, 1.4789, 0.4806],\n",
              "       [0.4443, 2.9658, 2.3934]])"
            ]
          },
          "metadata": {},
          "execution_count": 8
        }
      ]
    },
    {
      "cell_type": "code",
      "source": [
        "# ndarray는 같은 종류의 데이터를 담을 수 있는 포괄적인 다차원 배열이다.\n",
        "# ndarray의 모든 원소는 같은 자료형이어야 한다. 모든 배열은 각 차원의 크기를 알려주는 shape라는 튜플과 배열\n",
        "# data로 명명된 배열의 각 차원의 크기는 2행 3열이므로 (2,3), 배열에 저장된 자료형은 64비트 float 형태이다\n",
        "print(data1.shape, data1.dtype)"
      ],
      "metadata": {
        "colab": {
          "base_uri": "https://localhost:8080/"
        },
        "id": "AQ4pmcz622qI",
        "outputId": "8a77dcb0-1758-457d-a786-34d503ecf8cd"
      },
      "execution_count": null,
      "outputs": [
        {
          "output_type": "stream",
          "name": "stdout",
          "text": [
            "(2, 3) float64\n"
          ]
        }
      ]
    },
    {
      "cell_type": "code",
      "source": [
        "# 1.3 ndarray 생성하기\n",
        "# 리스트(list): 파이썬의 기본 자료형으로 제공되는 리스트\n",
        "# 배열(array): numpy에서 제공하는 고유 자료형 ndarray\n",
        "# 배열(ndarray)을 생성하는 가장 쉬운 방법은 numpy의 array 함수를 이용하는 것이다.\n",
        "\n",
        "# ndarray로 변환될 파이선의 기본 자료형인 리스트\n",
        "data1 = [6,7.5,8,0,1]\n",
        "\n",
        "# np.array(리스트) 형식으로 넣어주면 ndarray로 변경된다\n",
        "arr1 = np.array(data1)\n",
        "\n",
        "# arr1을 출력해보면 array[6,...] 형식으로 array라는 자료형으로 변경되었다는 안내문이 나온다\n",
        "arr1"
      ],
      "metadata": {
        "colab": {
          "base_uri": "https://localhost:8080/"
        },
        "id": "YqrSjhwT3zAM",
        "outputId": "904da286-7be5-4e91-bbcb-e47445722c97"
      },
      "execution_count": null,
      "outputs": [
        {
          "output_type": "execute_result",
          "data": {
            "text/plain": [
              "array([6. , 7.5, 8. , 0. , 1. ])"
            ]
          },
          "metadata": {},
          "execution_count": 14
        }
      ]
    },
    {
      "cell_type": "code",
      "source": [
        "#같은 길이를 가지는 리스트를 포함하고 있는 순차 데이터는 다차원 배열로 변환 가능하다\n",
        "data2 = [[1, 2, 3, 4], [5, 6, 7, 8]]\n",
        "arr2 = np.array(data2)\n",
        "# 2행 4열 형태의 배열로 전환되었다. 2행 4열이라는 형태는 그대로 유지된다\n",
        "arr2"
      ],
      "metadata": {
        "colab": {
          "base_uri": "https://localhost:8080/"
        },
        "id": "yjxTuxyw4P1d",
        "outputId": "5deec1ce-34e7-483b-ef47-fdda156a0651"
      },
      "execution_count": null,
      "outputs": [
        {
          "output_type": "execute_result",
          "data": {
            "text/plain": [
              "array([[1, 2, 3, 4],\n",
              "       [5, 6, 7, 8]])"
            ]
          },
          "metadata": {},
          "execution_count": 15
        }
      ]
    },
    {
      "cell_type": "code",
      "source": [
        "#numpy 배열은 ndim, shape 속성을 가지고 있다\n",
        "#ndim 속성은 배열의 차원 수(row의 수)를 의미한다. arr2은 행이 2개이므로 2차원 배열이다.\n",
        "#shape속성은 각 차원의 크기를 의미한다.차원의 크기란 다시 말하면 열의 개수와 같으므로 (행의 개수, 열의 개수)\n",
        "print(arr2.ndim, arr2.shape)"
      ],
      "metadata": {
        "colab": {
          "base_uri": "https://localhost:8080/"
        },
        "id": "X203_FB14Vrn",
        "outputId": "8b4a072f-8054-4bda-c904-96ba10f2fd86"
      },
      "execution_count": null,
      "outputs": [
        {
          "output_type": "stream",
          "name": "stdout",
          "text": [
            "2 (2, 4)\n"
          ]
        }
      ]
    },
    {
      "cell_type": "code",
      "source": [
        "#dtype은 배열을 구성하는 데이터의 종류를 의미한다\n",
        "#arr1은 64비트 float, arr2는 64비트 int로 구성되어 있다\n",
        "print(arr1.dtype, arr2.dtype)"
      ],
      "metadata": {
        "colab": {
          "base_uri": "https://localhost:8080/"
        },
        "id": "g_c4IZRM4gWP",
        "outputId": "672df34c-3348-4efd-eaeb-375d4428f9cd"
      },
      "execution_count": null,
      "outputs": [
        {
          "output_type": "stream",
          "name": "stdout",
          "text": [
            "float64 int64\n"
          ]
        }
      ]
    },
    {
      "cell_type": "code",
      "source": [
        "#numpy는 자주 쓰는 특이한 배열을 생성하기 위한 여러함수를 제공한다\n",
        "#zeros 함수는 0으로만 이뤄진 배열을 생성한다. 아래의 코드는 10개의 0으로 이뤄진 배열을 생성한다\n",
        "np.zeros(10)\n",
        "#아래의 코드는 3행 6열 형태의 모든 원소가 0인 배열을 생성한다\n",
        "np.zeros((3, 6))\n",
        "#empty 함수는 초기화되지 않은 배열을 생성한다.\n",
        "#아래의 코드는 3행 2열로 이뤄진 배열을 생성하되 초기화는 되지 않아 무작위 값이 들어있다\n",
        "np.empty((3, 2))"
      ],
      "metadata": {
        "colab": {
          "base_uri": "https://localhost:8080/"
        },
        "id": "wfL_vscS4qbT",
        "outputId": "ba1cad0e-6476-4437-da1f-5da483731934"
      },
      "execution_count": null,
      "outputs": [
        {
          "output_type": "execute_result",
          "data": {
            "text/plain": [
              "array([[0.9645, 0.6532],\n",
              "       [0.7489, 0.6536],\n",
              "       [0.7477, 0.9613]])"
            ]
          },
          "metadata": {},
          "execution_count": 18
        }
      ]
    },
    {
      "cell_type": "code",
      "source": [
        "#numpy에서 제공하는 arrange 함수는 파이썬의 range함수의 배열 버전이다(기능이 같다)\n",
        "#아래는 0-14까지의 숫자를 웒소로 같은 배열을 생성하는 코드이다\n",
        "print(list(range(15)))\n",
        "print('-'*100)\n",
        "np.arange(15)"
      ],
      "metadata": {
        "colab": {
          "base_uri": "https://localhost:8080/"
        },
        "id": "Dz-Gjdkn4vlh",
        "outputId": "4bf2bba6-1e71-4560-c514-9a2733387728"
      },
      "execution_count": null,
      "outputs": [
        {
          "output_type": "stream",
          "name": "stdout",
          "text": [
            "[0, 1, 2, 3, 4, 5, 6, 7, 8, 9, 10, 11, 12, 13, 14]\n",
            "----------------------------------------------------------------------------------------------------\n"
          ]
        },
        {
          "output_type": "execute_result",
          "data": {
            "text/plain": [
              "array([ 0,  1,  2,  3,  4,  5,  6,  7,  8,  9, 10, 11, 12, 13, 14])"
            ]
          },
          "metadata": {},
          "execution_count": 20
        }
      ]
    },
    {
      "cell_type": "code",
      "source": [
        "#ndarray의 astype 메서드를 사용하면 배열의 dtype을 다른 형으로 명시적으로 변경 가능하다\n",
        "# 다른 프로그래밍 언어의 casting 기법과 동일한 기능이다\n",
        "arr = np.array([1, 2, 3, 4, 5])\n",
        "print(arr.dtype)\n",
        "# 아래는 astype 메서드를 사용하여 int형 자료를 float64로 변경하고 있다\n",
        "float_arr = arr.astype(np.float64)\n",
        "float_arr.dtype"
      ],
      "metadata": {
        "colab": {
          "base_uri": "https://localhost:8080/"
        },
        "id": "X91YBNzT5Q4K",
        "outputId": "4bd45635-754f-4f02-c9a4-2b99fb601764"
      },
      "execution_count": null,
      "outputs": [
        {
          "output_type": "stream",
          "name": "stdout",
          "text": [
            "int64\n"
          ]
        },
        {
          "output_type": "execute_result",
          "data": {
            "text/plain": [
              "dtype('float64')"
            ]
          },
          "metadata": {},
          "execution_count": 22
        }
      ]
    },
    {
      "cell_type": "code",
      "source": [
        "#반대로 float 형 데이터를 int형으로 변경하는 것도 가능하다. 소수점 아래 값은 버려진다\n",
        "arr = np.array([3.7, -1.2, -2.6, 0.5, 12.9, 10.1])\n",
        "print(arr)\n",
        "arr.astype(np.int32)"
      ],
      "metadata": {
        "colab": {
          "base_uri": "https://localhost:8080/"
        },
        "id": "aUBPYuGv5P-s",
        "outputId": "dff68058-e703-4e68-c2bf-6be4be9c0098"
      },
      "execution_count": null,
      "outputs": [
        {
          "output_type": "stream",
          "name": "stdout",
          "text": [
            "[ 3.7 -1.2 -2.6  0.5 12.9 10.1]\n"
          ]
        },
        {
          "output_type": "execute_result",
          "data": {
            "text/plain": [
              "array([ 3, -1, -2,  0, 12, 10], dtype=int32)"
            ]
          },
          "metadata": {},
          "execution_count": 23
        }
      ]
    },
    {
      "cell_type": "code",
      "source": [
        "#1.5 Numpy Array로 연산하기\n",
        "#자기 자신과 곱하는 연산을 하면 곱 연산으로 전환된다\n",
        "#[ 1 2 ] [ 1 2 ] = [ 1 4 ]\n",
        "#  3 4     3 4       9 16\n",
        "\n",
        "arr = np.array([[1,2], [3,4]])\n",
        "arr*arr"
      ],
      "metadata": {
        "colab": {
          "base_uri": "https://localhost:8080/"
        },
        "id": "u4aO9W0_5lLY",
        "outputId": "04c48172-e10a-4fc9-bb80-892b47d0fbc4"
      },
      "execution_count": null,
      "outputs": [
        {
          "output_type": "execute_result",
          "data": {
            "text/plain": [
              "array([[ 1,  4],\n",
              "       [ 9, 16]])"
            ]
          },
          "metadata": {},
          "execution_count": 25
        }
      ]
    },
    {
      "cell_type": "code",
      "source": [
        "#자기 자신과 더하는 연산을 하면 더하기 연산으로 전환된다\n",
        "arr = np.array([[1,2], [3,4]])\n",
        "arr+arr"
      ],
      "metadata": {
        "colab": {
          "base_uri": "https://localhost:8080/"
        },
        "id": "uHwVPOD451jf",
        "outputId": "95a04b48-24a0-439e-9eb9-1c51ca62252c"
      },
      "execution_count": null,
      "outputs": [
        {
          "output_type": "execute_result",
          "data": {
            "text/plain": [
              "array([[2, 4],\n",
              "       [6, 8]])"
            ]
          },
          "metadata": {},
          "execution_count": 27
        }
      ]
    },
    {
      "cell_type": "code",
      "source": [
        "# 1.6 색인과 슬라이싱 기초\n",
        "#사용할 배열. 0부터 9까지의 정수가 들어있다\n",
        "arr = np.arange(10)\n",
        "arr"
      ],
      "metadata": {
        "colab": {
          "base_uri": "https://localhost:8080/"
        },
        "id": "h0V6-Lzr59xN",
        "outputId": "7cf058ca-9b48-44b0-962f-33be59e3c328"
      },
      "execution_count": null,
      "outputs": [
        {
          "output_type": "execute_result",
          "data": {
            "text/plain": [
              "array([0, 1, 2, 3, 4, 5, 6, 7, 8, 9])"
            ]
          },
          "metadata": {},
          "execution_count": 28
        }
      ]
    },
    {
      "cell_type": "code",
      "source": [
        "#3차원 이상의 배열도 기존의 파이선의 3차원 이상의 리스트와 비슷하게 다루면 된다\n",
        "#3차원 배열 생성. 2x2x3 크기의 배열이다\n",
        "arr3d = np.array([[[1, 2, 3], [4, 5, 6]], [[7, 8, 9], [10, 11, 12]]])\n",
        "arr3d"
      ],
      "metadata": {
        "colab": {
          "base_uri": "https://localhost:8080/"
        },
        "id": "nnxCG7fT6Fr8",
        "outputId": "76bafdb1-0059-4395-ee7c-3324ed2c10fb"
      },
      "execution_count": null,
      "outputs": [
        {
          "output_type": "execute_result",
          "data": {
            "text/plain": [
              "array([[[ 1,  2,  3],\n",
              "        [ 4,  5,  6]],\n",
              "\n",
              "       [[ 7,  8,  9],\n",
              "        [10, 11, 12]]])"
            ]
          },
          "metadata": {},
          "execution_count": 30
        }
      ]
    },
    {
      "cell_type": "code",
      "source": [
        "#arr3d[0]은 첫번째 2x3 배열을 의미한다\n",
        "arr3d[0]"
      ],
      "metadata": {
        "colab": {
          "base_uri": "https://localhost:8080/"
        },
        "id": "Zw_9pHFY6Mjz",
        "outputId": "30f4327b-2c85-4124-a7e5-9bbfdbdd9963"
      },
      "execution_count": null,
      "outputs": [
        {
          "output_type": "execute_result",
          "data": {
            "text/plain": [
              "array([[1, 2, 3],\n",
              "       [4, 5, 6]])"
            ]
          },
          "metadata": {},
          "execution_count": 31
        }
      ]
    },
    {
      "cell_type": "code",
      "source": [
        "#배열을 복사하려면 배열의 copy() 메소드를 사용한다\n",
        "old_values = arr3d[0].copy()\n",
        "print(old_values)\n",
        "print('----------------------------')\n",
        "#원본 배열을 일부 수정해본다\n",
        "arr3d[0] = 0\n",
        "print(arr3d)\n",
        "print('----------------------------')\n",
        "#다시 원상복구한다\n",
        "arr3d[0] = old_values\n",
        "print(arr3d)"
      ],
      "metadata": {
        "colab": {
          "base_uri": "https://localhost:8080/"
        },
        "id": "laGl4Rkm6ZZN",
        "outputId": "047253d2-889b-4676-e517-14085279925f"
      },
      "execution_count": null,
      "outputs": [
        {
          "output_type": "stream",
          "name": "stdout",
          "text": [
            "[[1 2 3]\n",
            " [4 5 6]]\n",
            "----------------------------\n",
            "[[[ 0  0  0]\n",
            "  [ 0  0  0]]\n",
            "\n",
            " [[ 7  8  9]\n",
            "  [10 11 12]]]\n",
            "----------------------------\n",
            "[[[ 1  2  3]\n",
            "  [ 4  5  6]]\n",
            "\n",
            " [[ 7  8  9]\n",
            "  [10 11 12]]]\n"
          ]
        }
      ]
    },
    {
      "cell_type": "code",
      "source": [
        "#아래의 출력 예시를 보면서 다차원 배열의 인덱스 사용법을 알아두면된다\n",
        "print(arr3d)\n",
        "print('----------------------------')\n",
        "print(arr3d[1])\n",
        "print('----------------------------')\n",
        "print(arr3d[1][1])\n",
        "print('----------------------------')\n",
        "print(arr3d[1][0])"
      ],
      "metadata": {
        "colab": {
          "base_uri": "https://localhost:8080/"
        },
        "id": "0NhlDhLl7Fii",
        "outputId": "d64514a7-6d33-41eb-de63-1b52ea5ab828"
      },
      "execution_count": null,
      "outputs": [
        {
          "output_type": "stream",
          "name": "stdout",
          "text": [
            "[[[ 1  2  3]\n",
            "  [ 4  5  6]]\n",
            "\n",
            " [[ 7  8  9]\n",
            "  [10 11 12]]]\n",
            "----------------------------\n",
            "[[ 7  8  9]\n",
            " [10 11 12]]\n",
            "----------------------------\n",
            "[10 11 12]\n",
            "----------------------------\n",
            "[7 8 9]\n"
          ]
        }
      ]
    },
    {
      "cell_type": "code",
      "source": [
        "# 1.6.1 슬라이스로 선택하기\n",
        "#아래에서 사용할 arr은 0-9까지의 숫자가 담겨 있다\n",
        "arr = np.arange(10)\n",
        "arr_slice = arr[:5]\n",
        "print(arr)\n",
        "print('----------------------------')\n",
        "#0-5사이의 원소만 슬라이싱으로 가져온다\n",
        "print(arr_slice)"
      ],
      "metadata": {
        "colab": {
          "base_uri": "https://localhost:8080/"
        },
        "id": "UHmXluyH7Xro",
        "outputId": "49e05baa-d53c-4b90-cb06-95160198a5aa"
      },
      "execution_count": null,
      "outputs": [
        {
          "output_type": "stream",
          "name": "stdout",
          "text": [
            "[0 1 2 3 4 5 6 7 8 9]\n",
            "----------------------------\n",
            "[0 1 2 3 4]\n"
          ]
        }
      ]
    },
    {
      "cell_type": "code",
      "source": [
        "# 1.6.2 불리안 값으로 선택하기\n",
        "#중복된 이름이 포함된 배열이 있다\n",
        "names = np.array(['Bae', 'Joe', 'Evan', 'Julian', 'Will', 'kim', 'kenneth', 'jamie'])\n",
        "\n",
        "# names 배열에서 값이 'Bob'인것만 골라내기 (해당되면 True, 아니면 False 결과 출력)\n",
        "names == 'Bob'"
      ],
      "metadata": {
        "colab": {
          "base_uri": "https://localhost:8080/"
        },
        "id": "3dxWOUUo8y7D",
        "outputId": "6d27c515-7384-44a0-f906-a71ec7bc6090"
      },
      "execution_count": null,
      "outputs": [
        {
          "output_type": "execute_result",
          "data": {
            "text/plain": [
              "array([False, False, False, False, False, False, False, False])"
            ]
          },
          "metadata": {},
          "execution_count": 40
        }
      ]
    },
    {
      "cell_type": "code",
      "source": [
        "# != 연산자는 같지 않음을 나타낸다\n",
        "#이름이 'Bae'이 아닌 것\n",
        "print(names[names != 'Bae'])\n",
        "# ~ 연산자는 부정(반대)을 나타낸다\n",
        "# 이름이 'Bob'인 것의 부정(이름이 'Bae'이 아닌 것)을 나타낸다\n",
        "print(names[~(names=='Bae')])"
      ],
      "metadata": {
        "colab": {
          "base_uri": "https://localhost:8080/"
        },
        "id": "sxqKurWl9Ykd",
        "outputId": "0c785643-9368-4e3e-baab-4f057fb3db18"
      },
      "execution_count": null,
      "outputs": [
        {
          "output_type": "stream",
          "name": "stdout",
          "text": [
            "['Joe' 'Evan' 'Julian' 'Will' 'kim' 'kenneth' 'jamie']\n",
            "['Joe' 'Evan' 'Julian' 'Will' 'kim' 'kenneth' 'jamie']\n"
          ]
        }
      ]
    },
    {
      "cell_type": "code",
      "source": [
        "#여러가지 조건을 동시에 사용하고 싶다면 &(and) 나 | (or) 같은 논리 연산자를 사용하면 된다\n",
        "#이름이 'Bae'이거나 이름이 'kim'인 것만 골라냄\n",
        "mask = (names == 'Bae') | (names == 'kim')\n",
        "print('names =', names)\n",
        "print('mask = ', mask)\n",
        "print('------------------------')\n",
        "print(names[mask])"
      ],
      "metadata": {
        "colab": {
          "base_uri": "https://localhost:8080/"
        },
        "id": "5vfP_bhx9hrx",
        "outputId": "d2fe41a9-c51f-4f75-94ef-c69581166de9"
      },
      "execution_count": null,
      "outputs": [
        {
          "output_type": "stream",
          "name": "stdout",
          "text": [
            "names = ['Bae' 'Joe' 'Evan' 'Julian' 'Will' 'kim' 'kenneth' 'jamie']\n",
            "mask =  [ True False False False False  True False False]\n",
            "------------------------\n",
            "['Bae' 'kim']\n"
          ]
        }
      ]
    },
    {
      "cell_type": "code",
      "source": [
        "# 1이상 3미만의 숫자를 골라냄\n",
        "arr= np.array([1,2,3,4,5])\n",
        "print(arr)\n",
        "mask = (arr>=1)&(arr<3)\n",
        "print(arr[mask])"
      ],
      "metadata": {
        "colab": {
          "base_uri": "https://localhost:8080/"
        },
        "id": "uiQnhJw293qn",
        "outputId": "f75a9fa9-d1e9-48db-c66c-049733a974ea"
      },
      "execution_count": null,
      "outputs": [
        {
          "output_type": "stream",
          "name": "stdout",
          "text": [
            "[1 2 3 4 5]\n",
            "[1 2]\n"
          ]
        }
      ]
    },
    {
      "cell_type": "code",
      "source": [
        "# 1.8 배열 연산으로 조건절 표현하기\n",
        "#다음과 같은 불리언 배열 하나와 값이 들어 있는 2개의 배열이 있다고 하자.\n",
        "xarr = np.array([1.1, 1.2, 1.3, 1.4, 1.5])\n",
        "yarr = np.array([2.1, 2.2, 2.3, 2.4, 2.5])\n",
        "cond = np.array([True, False, True, True, False])"
      ],
      "metadata": {
        "id": "chavlT44BKuh"
      },
      "execution_count": 4,
      "outputs": []
    },
    {
      "cell_type": "code",
      "source": [
        "#cond 배열의 값이 True일 때는 xarr의 값을 취하고 아니니면 yarr의 값을 취하고 싶다면 리스트 표기법을 이용해서\n",
        "result = [(x if c else y) for x, y, c in zip(xarr, yarr, cond)]\n",
        "result"
      ],
      "metadata": {
        "colab": {
          "base_uri": "https://localhost:8080/"
        },
        "id": "9qrCoifsBftd",
        "outputId": "9f7f8f28-5869-4c53-ce1b-6096b5ab963f"
      },
      "execution_count": 5,
      "outputs": [
        {
          "output_type": "execute_result",
          "data": {
            "text/plain": [
              "[1.1, 2.2, 1.3, 1.4, 2.5]"
            ]
          },
          "metadata": {},
          "execution_count": 5
        }
      ]
    },
    {
      "cell_type": "code",
      "source": [
        "#nunpy의 where 함수를 사용하면 위와 같은 작업을 빠르고 간결하게 처리할 수 있다.\n",
        "#where함수의 첫번째 인자는 불리안 배열을 넣고 두번째 세번째 인자는 조건을 적용할 변수를 넣으면 된다\n",
        "result = np.where(cond, xarr, yarr)\n",
        "result"
      ],
      "metadata": {
        "colab": {
          "base_uri": "https://localhost:8080/"
        },
        "id": "aM2XpYirB7j4",
        "outputId": "34dc5ff7-2695-4e73-c700-2d7eeb8ee47e"
      },
      "execution_count": 6,
      "outputs": [
        {
          "output_type": "execute_result",
          "data": {
            "text/plain": [
              "array([1.1, 2.2, 1.3, 1.4, 2.5])"
            ]
          },
          "metadata": {},
          "execution_count": 6
        }
      ]
    },
    {
      "cell_type": "code",
      "source": [
        "# 1.9 수학 메서드와 통계 메서드(Mathematical and Statistical Methods)\n",
        "#5행 4열 크기의 배열 생성\n",
        "arr = np.random.randn(3, 3)\n",
        "for i in range(3):\n",
        "  for j in range(3):\n",
        "    arr[i][j] = i+j\n",
        "print(arr)\n",
        "print('-'*100)\n",
        "\n",
        "#평균을 구하는 방법은 2가지이다\n",
        "#평균1\n",
        "print('전체 평균 ', arr.mean())\n",
        "print('-'*100)\n",
        "#평균2\n",
        "print('전체 평균 ', np.mean(arr))\n",
        "print('-'*100)\n",
        "#합계\n",
        "print('전체 합계 ', arr.sum())\n",
        "arr"
      ],
      "metadata": {
        "colab": {
          "base_uri": "https://localhost:8080/"
        },
        "id": "v27C4nphCQ_5",
        "outputId": "1cc176cf-a243-4aff-b6aa-702eecb333f1"
      },
      "execution_count": 10,
      "outputs": [
        {
          "output_type": "stream",
          "name": "stdout",
          "text": [
            "[[0. 1. 2.]\n",
            " [1. 2. 3.]\n",
            " [2. 3. 4.]]\n",
            "----------------------------------------------------------------------------------------------------\n",
            "전체 평균  2.0\n",
            "----------------------------------------------------------------------------------------------------\n",
            "전체 평균  2.0\n",
            "----------------------------------------------------------------------------------------------------\n",
            "전체 합계  18.0\n"
          ]
        },
        {
          "output_type": "execute_result",
          "data": {
            "text/plain": [
              "array([[0., 1., 2.],\n",
              "       [1., 2., 3.],\n",
              "       [2., 3., 4.]])"
            ]
          },
          "metadata": {},
          "execution_count": 10
        }
      ]
    },
    {
      "cell_type": "code",
      "source": [
        "#mean이나 sum같은 함수는 axis 인자를 옵션으로 받아 해당 axis에 대한 통계를 계산하고 한 차수 낮은 배열을 반\n",
        "#axis 옵션에서 0은 행(row), 1은 열(column)을 의미한다\n",
        "arr = np.array([[1,2],[3,4]])\n",
        "print(arr)\n",
        "print('-'*100)\n",
        "\n",
        "#axis가 0인 경우 행(row)를 기준으로 0번째 열 요소들의 평균을 구한다.\n",
        "print(arr.mean(axis=0))\n",
        "print('-'*100)\n",
        "\n",
        "#axis가 1인 경우 열(column)을 기준으로 0번째 행 요소들의 평균을 구한다\n",
        "print(arr.mean(axis=1))"
      ],
      "metadata": {
        "colab": {
          "base_uri": "https://localhost:8080/"
        },
        "id": "JbedUlLwCZwu",
        "outputId": "75249802-9e74-441a-c8e2-d308a886ea8e"
      },
      "execution_count": 12,
      "outputs": [
        {
          "output_type": "stream",
          "name": "stdout",
          "text": [
            "[[1 2]\n",
            " [3 4]]\n",
            "----------------------------------------------------------------------------------------------------\n",
            "[2. 3.]\n",
            "----------------------------------------------------------------------------------------------------\n",
            "[1.5 3.5]\n"
          ]
        }
      ]
    },
    {
      "cell_type": "code",
      "source": [
        "# 1.10.1 Sorting(정렬)\n",
        "#랜덤한 6개 수가 담긴 1차원 배열 생성\n",
        "arr = np.random.randn(6)*10\n",
        "arr = np.around(arr)\n",
        "print(arr)\n",
        "print('-'*100)\n",
        "#sort 메서드를 사용하여 정렬한다. 정렬은 기본적으로 오름차순이다\n",
        "arr.sort()\n",
        "print(arr)"
      ],
      "metadata": {
        "colab": {
          "base_uri": "https://localhost:8080/"
        },
        "id": "599hV0p6GPXO",
        "outputId": "09e687e5-2a18-4dce-af42-1d7de07cfb97"
      },
      "execution_count": 13,
      "outputs": [
        {
          "output_type": "stream",
          "name": "stdout",
          "text": [
            "[  5.   0.  13.  -7.  -8. -24.]\n",
            "----------------------------------------------------------------------------------------------------\n",
            "[-24.  -8.  -7.   0.   5.  13.]\n"
          ]
        }
      ]
    },
    {
      "cell_type": "code",
      "source": [
        "#다차원 배열의 정렬은 sort 메서드에 넘긴 축의 값에 따라 1차원 부분을 정렬한다\n",
        "arr = np.random.randn(3, 3)*10\n",
        "arr = np.around(arr)\n",
        "print(arr)\n",
        "print('-'*100)\n",
        "#가로축(row)을 기준으로 위에서 아래로 정렬\n",
        "arr.sort(0)\n",
        "print(arr)\n",
        "print('-'*100)\n",
        "#세로축(column)을 기준으로 왼쪽에서 오른쪽으로 정렬\n",
        "arr.sort(1)\n",
        "print(arr)"
      ],
      "metadata": {
        "colab": {
          "base_uri": "https://localhost:8080/"
        },
        "id": "bmJ6nVKbGXzU",
        "outputId": "cabbc19c-7278-49a2-a209-22ed14cfa46b"
      },
      "execution_count": 15,
      "outputs": [
        {
          "output_type": "stream",
          "name": "stdout",
          "text": [
            "[[-15. -10. -13.]\n",
            " [  3.   4.  -8.]\n",
            " [  3.  13.   1.]]\n",
            "----------------------------------------------------------------------------------------------------\n",
            "[[-15. -10. -13.]\n",
            " [  3.   4.  -8.]\n",
            " [  3.  13.   1.]]\n",
            "----------------------------------------------------------------------------------------------------\n",
            "[[-15. -13. -10.]\n",
            " [ -8.   3.   4.]\n",
            " [  1.   3.  13.]]\n"
          ]
        }
      ]
    },
    {
      "cell_type": "code",
      "source": [
        "#정렬한 후에 배열의 상위 10%, 하위 10%등 특정 백분위에 해당하는 데이터만 필터링할 수 있다\n",
        "#랜덤한 숫자 100개 데이터 생성\n",
        "large_arr = np.random.randn(100)*10\n",
        "print(large_arr)\n",
        "large_arr = np.around(large_arr)\n",
        "print(large_arr)\n",
        "large_arr.sort()\n",
        "#(large_arr)\n",
        "large_arr = large_arr[::-1]\n",
        "print(large_arr)\n",
        "print('-'*100)\n",
        "#\n",
        "print(len(large_arr))\n",
        "print(large_arr[0:int(0.1 * len(large_arr))] )\n",
        "print(large_arr[int(0.9*len(large_arr)):-1])"
      ],
      "metadata": {
        "colab": {
          "base_uri": "https://localhost:8080/"
        },
        "id": "_Yc-2Jm5Ga-h",
        "outputId": "60609fde-6279-4ce5-e9b9-67c21602a2fb"
      },
      "execution_count": 17,
      "outputs": [
        {
          "output_type": "stream",
          "name": "stdout",
          "text": [
            "[  7.1809  -3.0427 -16.7779   4.2699 -15.6374  -3.6749  10.4591  12.1995\n",
            "  -2.477   -4.1623  -1.1675 -18.4479  20.6871  -7.7697  14.4017  -1.1056\n",
            "  12.2739  19.2078   7.4643  22.2466  -6.794    7.2737  -8.6873 -12.1385\n",
            "  -4.7063  -9.1924  -8.3883   4.3516  -5.578   -5.6745  -3.7264  -9.2656\n",
            "  17.5511  12.0981  12.7002  -9.7438  -6.3471  -3.957   -2.8944  -7.343\n",
            "  -7.285    8.3878   2.6689   7.2119   9.1098 -10.209  -14.1342  12.9661\n",
            "   2.5228  11.2748  -5.6836   3.0936  -5.7739 -11.6863  -8.2502 -26.4441\n",
            "  -1.5299  -7.5192  -1.3261  14.573    6.0951  -4.9378  12.3998  -1.3572\n",
            "  14.3004  -8.4685   6.0328  12.6357  -2.5549  -4.4569   4.6837  -9.616\n",
            " -18.245    6.2543  10.2287  11.0742   0.9094  -3.5011   2.1796  -8.9481\n",
            " -17.4149 -10.5226  14.366   -5.7621 -24.2029 -10.6233   2.3737   0.0096\n",
            "   0.6525 -13.6752  -0.3028   9.4049  -6.4244  10.4018 -10.8292   4.2921\n",
            "  -2.3622   6.4182  -3.3166  13.9407]\n",
            "[  7.  -3. -17.   4. -16.  -4.  10.  12.  -2.  -4.  -1. -18.  21.  -8.\n",
            "  14.  -1.  12.  19.   7.  22.  -7.   7.  -9. -12.  -5.  -9.  -8.   4.\n",
            "  -6.  -6.  -4.  -9.  18.  12.  13. -10.  -6.  -4.  -3.  -7.  -7.   8.\n",
            "   3.   7.   9. -10. -14.  13.   3.  11.  -6.   3.  -6. -12.  -8. -26.\n",
            "  -2.  -8.  -1.  15.   6.  -5.  12.  -1.  14.  -8.   6.  13.  -3.  -4.\n",
            "   5. -10. -18.   6.  10.  11.   1.  -4.   2.  -9. -17. -11.  14.  -6.\n",
            " -24. -11.   2.   0.   1. -14.  -0.   9.  -6.  10. -11.   4.  -2.   6.\n",
            "  -3.  14.]\n",
            "[ 22.  21.  19.  18.  15.  14.  14.  14.  14.  13.  13.  13.  12.  12.\n",
            "  12.  12.  11.  11.  10.  10.  10.   9.   9.   8.   7.   7.   7.   7.\n",
            "   6.   6.   6.   6.   5.   4.   4.   4.   3.   3.   3.   2.   2.   1.\n",
            "   1.  -0.   0.  -1.  -1.  -1.  -1.  -2.  -2.  -2.  -3.  -3.  -3.  -3.\n",
            "  -4.  -4.  -4.  -4.  -4.  -4.  -5.  -5.  -6.  -6.  -6.  -6.  -6.  -6.\n",
            "  -6.  -7.  -7.  -7.  -8.  -8.  -8.  -8.  -8.  -9.  -9.  -9.  -9. -10.\n",
            " -10. -10. -11. -11. -11. -12. -12. -14. -14. -16. -17. -17. -18. -18.\n",
            " -24. -26.]\n",
            "----------------------------------------------------------------------------------------------------\n",
            "100\n",
            "[22. 21. 19. 18. 15. 14. 14. 14. 14. 13.]\n",
            "[-12. -14. -14. -16. -17. -17. -18. -18. -24.]\n"
          ]
        }
      ]
    },
    {
      "cell_type": "code",
      "source": [
        "# 1.10.2 집합 관련 함수\n",
        "#여러 이름들이 담긴 배열\n",
        "names = np.array(['Bob', 'Joe', 'Will', 'Bob', 'Will', 'Joe', 'Joe'])\n",
        "#독특한(중복이 되지 않은) 이름만 선별\n",
        "print(names)\n",
        "print(np.unique(names))\n",
        "print('-'*100)\n",
        "\n",
        "#정수형 데이터도 간단하게 처리할 수 있다\n",
        "ints = np.array([3, 3, 3, 2, 2, 1, 1, 4, 4])\n",
        "print([3, 3, 3, 2, 2, 1, 1, 4, 4])\n",
        "print(np.unique(ints))\n",
        "#np.unique(ints)\n",
        "#ints.unique() : # numpy array 안에 unique 함수가 없어서 안됨\n",
        "ints"
      ],
      "metadata": {
        "colab": {
          "base_uri": "https://localhost:8080/"
        },
        "id": "8eq3qcL3G4Ly",
        "outputId": "d4bf66ae-d5d1-4fe7-9c8e-f79ea392c8a2"
      },
      "execution_count": 19,
      "outputs": [
        {
          "output_type": "stream",
          "name": "stdout",
          "text": [
            "['Bob' 'Joe' 'Will' 'Bob' 'Will' 'Joe' 'Joe']\n",
            "['Bob' 'Joe' 'Will']\n",
            "----------------------------------------------------------------------------------------------------\n",
            "[3, 3, 3, 2, 2, 1, 1, 4, 4]\n",
            "[1 2 3 4]\n"
          ]
        },
        {
          "output_type": "execute_result",
          "data": {
            "text/plain": [
              "array([3, 3, 3, 2, 2, 1, 1, 4, 4])"
            ]
          },
          "metadata": {},
          "execution_count": 19
        }
      ]
    },
    {
      "cell_type": "code",
      "source": [
        "# 1.12 선형대수(Linear Algebra)\n",
        "x = np.array([[1., 2., 3.], [4., 5., 6.]])\n",
        "y = np.array([[6., 23.], [-1, 7], [8, 9]])\n",
        "#두 행렬 x,y의 내적. 2x3 행렬과 3x2 행렬의 내적은 2x2 행렬의 형태로 나타난다\n",
        "print(x.dot(y))"
      ],
      "metadata": {
        "colab": {
          "base_uri": "https://localhost:8080/"
        },
        "id": "6ojJmgCBH8Bo",
        "outputId": "e3ee3043-6830-4a5b-a7c1-652d29ee023e"
      },
      "execution_count": 21,
      "outputs": [
        {
          "output_type": "stream",
          "name": "stdout",
          "text": [
            "[[ 28.  64.]\n",
            " [ 67. 181.]]\n"
          ]
        }
      ]
    },
    {
      "cell_type": "code",
      "source": [
        "#x.dot(y)는 np.dot(x,y)와 동일하다\n",
        "np.dot(x, y)"
      ],
      "metadata": {
        "colab": {
          "base_uri": "https://localhost:8080/"
        },
        "id": "c7eFqap8KKsz",
        "outputId": "5f609b23-518e-46dc-a00f-9d40207e1aff"
      },
      "execution_count": 22,
      "outputs": [
        {
          "output_type": "execute_result",
          "data": {
            "text/plain": [
              "array([[ 28.,  64.],\n",
              "       [ 67., 181.]])"
            ]
          },
          "metadata": {},
          "execution_count": 22
        }
      ]
    },
    {
      "cell_type": "code",
      "source": [
        "#numpy의 linalg 라이브러리는 행렬의 분할과 역행렬, 행렬식과 같은 것들을 포함하고 있다.\n",
        "from numpy.linalg import inv, qr\n",
        "\n",
        "#5행 5열 랜덤 배열 생성\n",
        "X = np.random.randn(5,5)*10\n",
        "X = np.around(X)\n",
        "print(X)\n",
        "print('-'*100)\n",
        "\n",
        "#X와 X의 전치행렬간의 내적\n",
        "mat = X.T.dot(X)\n",
        "print(mat)\n",
        "print('-'*100)"
      ],
      "metadata": {
        "colab": {
          "base_uri": "https://localhost:8080/"
        },
        "id": "ti4yXYUeKPAD",
        "outputId": "d1cc79ef-da4a-4b80-93b4-025e8bf30fbd"
      },
      "execution_count": 24,
      "outputs": [
        {
          "output_type": "stream",
          "name": "stdout",
          "text": [
            "[[-11.  -2.  -9.   4. -12.]\n",
            " [ -3.  -6. -13.   5. -11.]\n",
            " [  8.  -2.  20.  -9. -10.]\n",
            " [ -3.   5.  -4.   4.   4.]\n",
            " [ -2. -26.   2.   1.  -3.]]\n",
            "----------------------------------------------------------------------------------------------------\n",
            "[[ 207.   61.  306. -145.   79.]\n",
            " [  61.  745.  -16.  -26.  208.]\n",
            " [ 306.  -16.  670. -295.   29.]\n",
            " [-145.  -26. -295.  139.    0.]\n",
            " [  79.  208.   29.    0.  390.]]\n",
            "----------------------------------------------------------------------------------------------------\n"
          ]
        }
      ]
    },
    {
      "cell_type": "code",
      "source": [
        "# 1.14 계단 오르내리기 예제 (과제)\n",
        "#계단 중간에서 같은 확률로 한 계단 올라가거나 내려간다고 가정하자\n",
        "#순수 파이썬으로 내장 random 모듈을 사용하여 계단 오르내리기를 1000번 수행하는 코드는 다음처럼 작성\n",
        "import random\n",
        "position = 0\n",
        "walk = [position]\n",
        "steps = 1000\n",
        "for i in range(steps):\n",
        "#   step = 1 if random.randint(0,1) else -1\n",
        "   step = 1 if np.random.randint(0,2) else -1\n",
        "   position += step\n",
        "   walk.append(position)\n",
        "\n",
        "plt.plot(walk[:100])"
      ],
      "metadata": {
        "colab": {
          "base_uri": "https://localhost:8080/",
          "height": 475
        },
        "id": "7pYOAYfEKzPE",
        "outputId": "ca9eeb13-a465-4815-ec76-26749df6c960"
      },
      "execution_count": 27,
      "outputs": [
        {
          "output_type": "execute_result",
          "data": {
            "text/plain": [
              "[<matplotlib.lines.Line2D at 0x7fa0d8da25c0>]"
            ]
          },
          "metadata": {},
          "execution_count": 27
        },
        {
          "output_type": "display_data",
          "data": {
            "text/plain": [
              "<Figure size 1000x600 with 1 Axes>"
            ],
            "image/png": "[encoded data removed]"
          },
          "metadata": {}
        }
      ]
    },
    {
      "cell_type": "code",
      "source": [
        "#walk는 계단을 오르거나(+1) 내려간(-1) 값을 모았다. 이를 배열식으로 나타낼 수 있다.\n",
        "# 진행 사항은 walk의 총 개수를 보고 판단이 가능하다\n",
        "#그래서 np.random 모듈을 사용해서 1,000번 수행한 결과 (1,-1)을 한번에 저장하고 누적합을 계산한다\n",
        "nsteps = 1000\n",
        "draws = np.random.randint(0,2,size=nsteps)\n",
        "steps = np.where(draws>0,1,-1)\n",
        "walk= steps.cumsum()\n",
        "walk"
      ],
      "metadata": {
        "colab": {
          "base_uri": "https://localhost:8080/"
        },
        "id": "jJUea43FNk3g",
        "outputId": "cb65d5fb-7ea2-4aa4-ea92-8aa106f7f16c"
      },
      "execution_count": 28,
      "outputs": [
        {
          "output_type": "execute_result",
          "data": {
            "text/plain": [
              "array([-1, -2, -3, -2, -3, -4, -5, -4, -5, -6, -5, -4, -3, -2, -1,  0,  1,\n",
              "        0,  1,  0, -1,  0,  1,  2,  1,  2,  3,  4,  3,  4,  3,  2,  3,  4,\n",
              "        3,  4,  5,  6,  7,  8,  9,  8,  7,  6,  7,  8,  9,  8,  9,  8,  9,\n",
              "        8,  9,  8,  9, 10, 11, 10,  9, 10,  9, 10, 11, 10,  9,  8,  7,  6,\n",
              "        5,  6,  7,  8,  9, 10,  9, 10, 11, 12, 13, 14, 13, 12, 13, 12, 13,\n",
              "       12, 13, 14, 15, 16, 15, 14, 15, 16, 15, 14, 15, 16, 17, 18, 17, 18,\n",
              "       19, 18, 19, 18, 17, 16, 17, 16, 17, 16, 17, 16, 17, 16, 15, 14, 13,\n",
              "       12, 13, 12, 11, 10, 11, 10, 11, 10, 11, 10, 11, 10, 11, 12, 11, 10,\n",
              "        9, 10,  9, 10, 11, 12, 11, 12, 11, 10,  9,  8,  7,  8,  7,  6,  7,\n",
              "        8,  7,  8,  9,  8,  9,  8,  7,  6,  5,  6,  7,  6,  5,  6,  7,  6,\n",
              "        7,  6,  5,  6,  5,  4,  5,  4,  5,  6,  7,  8,  7,  6,  5,  4,  3,\n",
              "        4,  3,  4,  3,  4,  3,  4,  5,  6,  7,  8,  7,  8,  9,  8,  9, 10,\n",
              "        9, 10,  9,  8,  9,  8,  9, 10, 11, 10, 11, 12, 11, 10,  9,  8,  9,\n",
              "        8,  9, 10, 11, 10, 11, 10, 11, 10, 11, 12, 13, 14, 13, 14, 13, 14,\n",
              "       15, 16, 15, 16, 17, 18, 19, 18, 19, 20, 19, 20, 21, 22, 21, 20, 19,\n",
              "       18, 19, 18, 19, 20, 19, 18, 17, 18, 17, 18, 19, 20, 19, 20, 19, 20,\n",
              "       19, 18, 19, 20, 19, 18, 19, 18, 17, 18, 19, 18, 17, 16, 15, 16, 15,\n",
              "       16, 15, 14, 13, 14, 13, 12, 13, 12, 13, 12, 11, 10, 11, 12, 11, 10,\n",
              "       11, 12, 13, 14, 15, 16, 15, 14, 15, 14, 15, 14, 13, 12, 13, 12, 11,\n",
              "       10,  9, 10, 11, 10,  9, 10, 11, 12, 13, 12, 11, 10,  9, 10, 11, 10,\n",
              "       11, 10,  9, 10,  9, 10, 11, 12, 13, 12, 13, 12, 13, 12, 11, 12, 11,\n",
              "       10,  9, 10,  9, 10,  9, 10,  9,  8,  9, 10,  9,  8,  9, 10, 11, 10,\n",
              "        9, 10, 11, 10, 11, 12, 11, 12, 13, 12, 13, 12, 13, 12, 11, 12, 11,\n",
              "       10,  9,  8,  7,  6,  5,  6,  5,  6,  5,  4,  5,  6,  7,  8,  7,  8,\n",
              "        9,  8,  9,  8,  9,  8,  7,  8,  7,  6,  7,  8,  7,  8,  9,  8,  9,\n",
              "        8,  9, 10, 11, 10, 11, 12, 13, 12, 13, 14, 15, 16, 17, 18, 17, 16,\n",
              "       15, 16, 15, 16, 17, 18, 19, 20, 19, 18, 19, 20, 19, 20, 21, 20, 21,\n",
              "       20, 21, 20, 19, 20, 19, 20, 21, 22, 21, 20, 19, 20, 21, 22, 21, 22,\n",
              "       21, 20, 21, 22, 21, 20, 19, 18, 17, 18, 17, 16, 17, 18, 17, 18, 17,\n",
              "       18, 17, 16, 15, 16, 17, 18, 19, 18, 19, 20, 19, 20, 19, 18, 17, 18,\n",
              "       17, 18, 17, 18, 17, 16, 17, 18, 19, 18, 17, 18, 19, 18, 17, 18, 19,\n",
              "       18, 19, 18, 19, 20, 19, 20, 21, 20, 21, 22, 23, 24, 23, 22, 21, 22,\n",
              "       23, 22, 21, 20, 21, 22, 21, 22, 23, 22, 23, 24, 25, 26, 25, 24, 23,\n",
              "       22, 23, 22, 21, 20, 19, 20, 19, 18, 19, 20, 21, 20, 21, 22, 23, 22,\n",
              "       21, 22, 21, 20, 19, 20, 19, 20, 19, 20, 21, 22, 23, 22, 23, 22, 21,\n",
              "       22, 23, 24, 23, 22, 21, 20, 19, 20, 19, 18, 19, 18, 17, 18, 19, 20,\n",
              "       21, 20, 21, 20, 21, 20, 19, 20, 19, 18, 19, 20, 21, 22, 21, 22, 21,\n",
              "       22, 21, 22, 21, 22, 23, 22, 23, 24, 23, 22, 21, 22, 21, 20, 19, 18,\n",
              "       17, 16, 17, 16, 17, 18, 19, 20, 21, 22, 23, 22, 23, 22, 21, 22, 21,\n",
              "       20, 21, 20, 21, 20, 19, 18, 19, 20, 21, 22, 23, 22, 21, 22, 21, 20,\n",
              "       21, 20, 21, 20, 21, 20, 21, 20, 19, 20, 19, 18, 19, 18, 17, 16, 17,\n",
              "       18, 19, 18, 19, 20, 19, 20, 19, 18, 19, 18, 17, 18, 19, 18, 19, 18,\n",
              "       19, 18, 19, 20, 21, 20, 19, 18, 19, 18, 19, 18, 19, 18, 17, 18, 19,\n",
              "       20, 19, 18, 19, 18, 19, 20, 19, 20, 21, 22, 23, 22, 21, 22, 21, 20,\n",
              "       21, 22, 23, 24, 25, 26, 27, 28, 27, 28, 27, 28, 29, 30, 29, 28, 27,\n",
              "       28, 29, 30, 29, 28, 27, 28, 29, 28, 29, 28, 29, 30, 31, 30, 31, 30,\n",
              "       31, 32, 31, 30, 29, 30, 31, 32, 33, 32, 31, 30, 29, 30, 29, 28, 29,\n",
              "       28, 27, 28, 29, 28, 27, 26, 27, 26, 25, 24, 23, 22, 23, 22, 21, 20,\n",
              "       19, 20, 21, 20, 21, 20, 21, 22, 23, 24, 23, 22, 21, 20, 19, 18, 19,\n",
              "       18, 17, 16, 17, 16, 17, 16, 17, 16, 15, 16, 15, 16, 15, 16, 17, 18,\n",
              "       19, 18, 19, 20, 19, 20, 19, 18, 19, 18, 17, 18, 17, 18, 17, 16, 15,\n",
              "       14, 13, 14, 13, 14, 13, 12, 11, 10,  9,  8,  7,  6,  5,  4,  5,  4,\n",
              "        5,  6,  7,  8,  7,  6,  7,  6,  5,  4,  3,  2,  1,  0, -1, -2, -1,\n",
              "        0,  1,  0,  1,  0,  1,  0, -1, -2, -3, -2, -1,  0,  1,  2,  3,  2,\n",
              "        3,  4,  3,  4,  5,  4,  5,  6,  5,  4,  3,  4,  5,  6,  5,  4,  3,\n",
              "        2,  1,  2,  1,  2,  3,  2,  1,  0, -1, -2, -1,  0, -1, -2, -1,  0,\n",
              "        1,  0, -1, -2, -1,  0,  1,  2,  3,  2,  1,  0,  1,  2,  1,  2,  1,\n",
              "        2,  3,  4,  5,  4,  5,  6,  7,  6,  5,  6,  5,  6,  7,  6,  7,  8,\n",
              "        9, 10,  9,  8,  9, 10, 11, 12, 11, 12, 11, 10, 11, 10])"
            ]
          },
          "metadata": {},
          "execution_count": 28
        }
      ]
    },
    {
      "cell_type": "code",
      "source": [
        "plt.figure()\n",
        "plt.plot(np.arange(len(walk)), walk)\n",
        "plt.show()"
      ],
      "metadata": {
        "colab": {
          "base_uri": "https://localhost:8080/",
          "height": 469
        },
        "id": "pbOIack5N4VN",
        "outputId": "2f02cb17-5121-44d9-e98b-19100cfd7e67"
      },
      "execution_count": 30,
      "outputs": [
        {
          "output_type": "display_data",
          "data": {
            "text/plain": [
              "<Figure size 1000x600 with 1 Axes>"
            ],
            "image/png": "[encoded data removed]"
          },
          "metadata": {}
        }
      ]
    },
    {
      "cell_type": "code",
      "source": [
        "#이것으로 계단을 오르내린 위치의 최솟값과 최댓값 같은 간단한 통계를 구할 수 있다\n",
        "print(walk.min(),walk.max())"
      ],
      "metadata": {
        "colab": {
          "base_uri": "https://localhost:8080/"
        },
        "id": "Wcf9cfHiOJtL",
        "outputId": "bd981930-aa9e-4315-806a-3299e21c51fc"
      },
      "execution_count": 31,
      "outputs": [
        {
          "output_type": "stream",
          "name": "stdout",
          "text": [
            "-6 33\n"
          ]
        }
      ]
    },
    {
      "cell_type": "code",
      "source": [
        "#계단에서 특정 위치에 도달하기까지의 시간 같은 좀 더 복잡한 통계를 구할 수 있는데,\n",
        "#계단의 처음 위치에서 최초로 10칸 떨어지기까지 얼마나 걸렸는지 확인해보자.\n",
        "#np.abs(walk) >= 10 으로 처음 위치에서 10칸 이상 떨어진 시점을 알려주는 불리언 배열을 얻을 수 있다.\n",
        "#우리는 최초의 10 혹은 -10인 시점을 구해야 하므로 불리언 배열에서 최댓값의 처음 색인을 반환하는 argmax를 사용\n",
        "t = (np.abs(walk)>=10)\n",
        "t.argmax()"
      ],
      "metadata": {
        "colab": {
          "base_uri": "https://localhost:8080/"
        },
        "id": "ubLH2Q8kONh0",
        "outputId": "2a2827e4-d1f2-42f3-febb-0135588b648f"
      },
      "execution_count": 33,
      "outputs": [
        {
          "output_type": "execute_result",
          "data": {
            "text/plain": [
              "55"
            ]
          },
          "metadata": {},
          "execution_count": 33
        }
      ]
    }
  ]
}