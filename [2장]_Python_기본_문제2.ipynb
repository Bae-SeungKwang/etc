{
  "nbformat": 4,
  "nbformat_minor": 0,
  "metadata": {
    "colab": {
      "provenance": [],
      "authorship_tag": "ABX9TyPYAJSCTGNNTsLDR4IzNSGL",
      "include_colab_link": true
    },
    "kernelspec": {
      "name": "python3",
      "display_name": "Python 3"
    },
    "language_info": {
      "name": "python"
    }
  },
  "cells": [
    {
      "cell_type": "markdown",
      "metadata": {
        "id": "view-in-github",
        "colab_type": "text"
      },
      "source": [
        "<a href=\"https://colab.research.google.com/github/Bae-SeungKwang/etc/blob/master/%5B2%EC%9E%A5%5D_Python_%EA%B8%B0%EB%B3%B8_%EB%AC%B8%EC%A0%9C2.ipynb\" target=\"_parent\"><img src=\"https://colab.research.google.com/assets/colab-badge.svg\" alt=\"Open In Colab\"/></a>"
      ]
    },
    {
      "cell_type": "code",
      "execution_count": 1,
      "metadata": {
        "id": "zcGtC3hK245x",
        "colab": {
          "base_uri": "https://localhost:8080/"
        },
        "outputId": "0db8a938-9628-4204-e3fd-796b623f1892"
      },
      "outputs": [
        {
          "output_type": "stream",
          "name": "stdout",
          "text": [
            "2210\n"
          ]
        }
      ],
      "source": [
        "# 2.1.7 확인 문제\n",
        "# Q1. 아래 자동차 번호의 뒤의 4자리만 출력\n",
        "license_plate = \"24가 2210\"\n",
        "last_four_digits = license_plate[-4:]\n",
        "print(last_four_digits)"
      ]
    },
    {
      "cell_type": "code",
      "source": [
        "# 2.1.7 확인 문제\n",
        "# Q2 아래의 문자열에서 '홀'만 출력\n",
        "string = '홀짝홀짝홀짝홀짝'\n",
        "result = string[::2]\n",
        "print(result)"
      ],
      "metadata": {
        "colab": {
          "base_uri": "https://localhost:8080/"
        },
        "id": "VH0-X1y1NHgR",
        "outputId": "d6dde044-20f6-4895-821e-4ecf911273cb"
      },
      "execution_count": 8,
      "outputs": [
        {
          "output_type": "stream",
          "name": "stdout",
          "text": [
            "홀홀홀홀\n"
          ]
        }
      ]
    },
    {
      "cell_type": "code",
      "source": [
        "# 2.1.7 확인 문제\n",
        "# Q3 문자열을 거꾸로 뒤집어 출력\n",
        "string = 'python'\n",
        "reversed_string = string[::-1]\n",
        "print(reversed_string)"
      ],
      "metadata": {
        "colab": {
          "base_uri": "https://localhost:8080/"
        },
        "id": "gE8_S5hENuqy",
        "outputId": "2cbcf87d-c95e-4d00-8c79-04376fa90d4c"
      },
      "execution_count": 3,
      "outputs": [
        {
          "output_type": "stream",
          "name": "stdout",
          "text": [
            "nohtyp\n"
          ]
        }
      ]
    },
    {
      "cell_type": "code",
      "source": [
        "# 2.1.7 확인 문제\n",
        "# Q4 아래 전화번호에서 하이픈('-')을 제거하고 출력\n",
        "phone_number = '010-1111-2222'\n",
        "phone_number_without_hyphen = phone_number.replace('-', ' ')\n",
        "print(phone_number_without_hyphen)"
      ],
      "metadata": {
        "colab": {
          "base_uri": "https://localhost:8080/"
        },
        "id": "dh1Irx5yP51Q",
        "outputId": "edd2388b-9274-49e6-a268-8e37c13496a9"
      },
      "execution_count": 10,
      "outputs": [
        {
          "output_type": "stream",
          "name": "stdout",
          "text": [
            "010 1111 2222\n"
          ]
        }
      ]
    },
    {
      "cell_type": "code",
      "source": [
        "# 2.1.7 확인 문제\n",
        "# Q5 아래 변수에 할당된 값의 타입을 판별\n",
        "\n",
        "a = '123'\n",
        "b = 123\n",
        "c = 123.0\n",
        "\n",
        "type_a = type(a)\n",
        "type_b = type(b)\n",
        "type_c = type(c)\n",
        "\n",
        "print(\"변수 a 타입:\", type_a)\n",
        "print(\"변수 b 타입:\", type_b)\n",
        "print(\"변수 c 타입:\", type_c)"
      ],
      "metadata": {
        "colab": {
          "base_uri": "https://localhost:8080/"
        },
        "id": "DfNiEcp_RM57",
        "outputId": "8de5d2ce-f42f-4636-8540-e3ad8cf50d9f"
      },
      "execution_count": 13,
      "outputs": [
        {
          "output_type": "stream",
          "name": "stdout",
          "text": [
            "변수 a 타입: <class 'str'>\n",
            "변수 b 타입: <class 'int'>\n",
            "변수 c 타입: <class 'float'>\n"
          ]
        }
      ]
    },
    {
      "cell_type": "code",
      "source": [
        "# 2.1.7 확인 문제\n",
        "# Q5 다음의 요구조건에 따라 타입을 변경\n",
        "#   1. 문자열(정수)은 정수로 변환\n",
        "#   2. 정수는 문자열로 변환\n",
        "#   3. 문자열(실수)는 실수로 변환\n",
        "\n",
        "var1 = '720'\n",
        "var2 = 100\n",
        "var3 = '700.0'\n",
        "\n",
        "var1 = int(var1) # 문자열(정수)은 정수로 변환\n",
        "var2 = str(var2) # 정수는 문자열로 변환\n",
        "var3 = float(var3) # 문자열(실수)는 실수로 변환\n",
        "\n",
        "print(\"변환된 var1의 타입:\", type(var1))\n",
        "print(\"변환된 var2의 타입:\", type(var2))\n",
        "print(\"변환된 var3의 타입:\", type(var3))"
      ],
      "metadata": {
        "colab": {
          "base_uri": "https://localhost:8080/"
        },
        "id": "5jqER8onTZH9",
        "outputId": "2808b159-9cb7-42f3-f83f-2bb40d53e910"
      },
      "execution_count": 15,
      "outputs": [
        {
          "output_type": "stream",
          "name": "stdout",
          "text": [
            "변환된 var1의 타입: <class 'int'>\n",
            "변환된 var2의 타입: <class 'str'>\n",
            "변환된 var3의 타입: <class 'float'>\n"
          ]
        }
      ]
    }
  ]
}