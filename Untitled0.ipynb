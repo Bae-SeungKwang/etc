{
  "nbformat": 4,
  "nbformat_minor": 0,
  "metadata": {
    "colab": {
      "provenance": [],
      "toc_visible": true,
      "authorship_tag": "ABX9TyMBkrmns6D2V/ZwAoAEkHuk",
      "include_colab_link": true
    },
    "kernelspec": {
      "name": "python3",
      "display_name": "Python 3"
    },
    "language_info": {
      "name": "python"
    }
  },
  "cells": [
    {
      "cell_type": "markdown",
      "metadata": {
        "id": "view-in-github",
        "colab_type": "text"
      },
      "source": [
        "<a href=\"https://colab.research.google.com/github/Bae-SeungKwang/etc/blob/master/Untitled0.ipynb\" target=\"_parent\"><img src=\"https://colab.research.google.com/assets/colab-badge.svg\" alt=\"Open In Colab\"/></a>"
      ]
    },
    {
      "cell_type": "code",
      "execution_count": 1,
      "metadata": {
        "colab": {
          "base_uri": "https://localhost:8080/"
        },
        "id": "4CukzwGetN7a",
        "outputId": "af2588bc-598a-4325-cac6-81d714fefe19"
      },
      "outputs": [
        {
          "output_type": "execute_result",
          "data": {
            "text/plain": [
              "30"
            ]
          },
          "metadata": {},
          "execution_count": 1
        }
      ],
      "source": [
        "# 2024.03.09 2주차 ---- 강의자료 1장\n",
        "\n",
        "a = 10\n",
        "b = 20\n",
        "a + b"
      ]
    },
    {
      "cell_type": "code",
      "source": [
        "a = 10\n",
        "a\n",
        "a = 10\n",
        "b = 20\n",
        "c = a + b\n",
        "c"
      ],
      "metadata": {
        "colab": {
          "base_uri": "https://localhost:8080/"
        },
        "id": "js0xl2u1tens",
        "outputId": "59716bf1-3b66-46b6-c313-8e218fd8d4ca"
      },
      "execution_count": 3,
      "outputs": [
        {
          "output_type": "execute_result",
          "data": {
            "text/plain": [
              "30"
            ]
          },
          "metadata": {},
          "execution_count": 3
        }
      ]
    },
    {
      "cell_type": "code",
      "source": [
        "a = 10\n",
        "b = 20\n",
        "c = 30\n",
        "a,b,c"
      ],
      "metadata": {
        "colab": {
          "base_uri": "https://localhost:8080/"
        },
        "id": "G0QjXFtetjgL",
        "outputId": "8433c204-7281-4cb5-b053-c58fe22c6d56"
      },
      "execution_count": 4,
      "outputs": [
        {
          "output_type": "execute_result",
          "data": {
            "text/plain": [
              "(10, 20, 30)"
            ]
          },
          "metadata": {},
          "execution_count": 4
        }
      ]
    },
    {
      "cell_type": "code",
      "source": [
        "an_apple = 20\n",
        "an_airplain = 30\n",
        "an_hour = 40\n",
        "an_airplain"
      ],
      "metadata": {
        "colab": {
          "base_uri": "https://localhost:8080/"
        },
        "id": "E7L6XCw_tmiO",
        "outputId": "277ee04d-258d-4a3b-9cc4-bb0f2441b85f"
      },
      "execution_count": 5,
      "outputs": [
        {
          "output_type": "execute_result",
          "data": {
            "text/plain": [
              "30"
            ]
          },
          "metadata": {},
          "execution_count": 5
        }
      ]
    },
    {
      "cell_type": "code",
      "source": [
        "an_apple"
      ],
      "metadata": {
        "colab": {
          "base_uri": "https://localhost:8080/"
        },
        "id": "U0i1uo5YuRfG",
        "outputId": "420b6812-3574-44b7-eceb-2d8da5099736"
      },
      "execution_count": 7,
      "outputs": [
        {
          "output_type": "execute_result",
          "data": {
            "text/plain": [
              "20"
            ]
          },
          "metadata": {},
          "execution_count": 7
        }
      ]
    },
    {
      "cell_type": "code",
      "source": [
        "a= [1,2,3,4]\n",
        "a.append(10)\n",
        "a\n",
        "#a. ctrl+space 참조"
      ],
      "metadata": {
        "colab": {
          "base_uri": "https://localhost:8080/"
        },
        "id": "z12-HqTEuyWY",
        "outputId": "5e82f37d-4449-4412-88cd-5dea44aa2d50"
      },
      "execution_count": 12,
      "outputs": [
        {
          "output_type": "execute_result",
          "data": {
            "text/plain": [
              "[1, 2, 3, 4, 10]"
            ]
          },
          "metadata": {},
          "execution_count": 12
        }
      ]
    },
    {
      "cell_type": "code",
      "source": [
        "import datetime\n",
        "datetime.date\n",
        "datetime.datetime\n"
      ],
      "metadata": {
        "colab": {
          "base_uri": "https://localhost:8080/"
        },
        "id": "SHxLGxfevaeb",
        "outputId": "199f3b31-0d2b-49f0-b014-165056b45c42"
      },
      "execution_count": 13,
      "outputs": [
        {
          "output_type": "execute_result",
          "data": {
            "text/plain": [
              "datetime.datetime"
            ]
          },
          "metadata": {},
          "execution_count": 13
        }
      ]
    },
    {
      "cell_type": "code",
      "source": [
        "a = [1,2,3]\n",
        "a?"
      ],
      "metadata": {
        "id": "6oHF2XrrvqGe"
      },
      "execution_count": 14,
      "outputs": []
    },
    {
      "cell_type": "code",
      "source": [
        "print?"
      ],
      "metadata": {
        "id": "1ctOiIjlv9Br"
      },
      "execution_count": 15,
      "outputs": []
    },
    {
      "cell_type": "code",
      "source": [
        "def add_numbers(a,b):\n",
        "  \"\"\"\n",
        "  2개의 숫자 a,b를 받아서 더한 다음 반환한다\n",
        "  \"\"\"\n",
        "  return a+b\n"
      ],
      "metadata": {
        "id": "0yGwEiruwBrm"
      },
      "execution_count": 16,
      "outputs": []
    },
    {
      "cell_type": "code",
      "source": [
        "add_numbers??"
      ],
      "metadata": {
        "id": "CztuS2sCwe-M"
      },
      "execution_count": 18,
      "outputs": []
    },
    {
      "cell_type": "code",
      "source": [
        "a*?"
      ],
      "metadata": {
        "id": "8kzL9siLwlHM"
      },
      "execution_count": 26,
      "outputs": []
    },
    {
      "cell_type": "code",
      "source": [
        "*e?"
      ],
      "metadata": {
        "id": "5OFltK8hxHmW"
      },
      "execution_count": 27,
      "outputs": []
    },
    {
      "cell_type": "code",
      "source": [
        "#test.py 파일 온라인 다운로드\n",
        "import os\n",
        "import urllib.request\n",
        "\n",
        "DOWNLOAD_ROOT = \"https://raw.githubusercontent.com/kumi1688/data_repo/main/\"\n",
        "filename = 'test.py'\n",
        "datapath = os.path.join(\"\")\n",
        "\n",
        "print(\"Downloading\", filename)\n",
        "urllib.request.urlretrieve(DOWNLOAD_ROOT + filename, datapath + filename)"
      ],
      "metadata": {
        "colab": {
          "base_uri": "https://localhost:8080/"
        },
        "id": "7L6nhD48xLRg",
        "outputId": "91bd6541-3e47-48e4-ee94-2d760bcf4df8"
      },
      "execution_count": 32,
      "outputs": [
        {
          "output_type": "stream",
          "name": "stdout",
          "text": [
            "Downloading test.py\n"
          ]
        },
        {
          "output_type": "execute_result",
          "data": {
            "text/plain": [
              "('test.py', <http.client.HTTPMessage at 0x79f541708ca0>)"
            ]
          },
          "metadata": {},
          "execution_count": 32
        }
      ]
    },
    {
      "cell_type": "code",
      "source": [
        "%run test.py"
      ],
      "metadata": {
        "colab": {
          "base_uri": "https://localhost:8080/"
        },
        "id": "zbzivZY7yBwH",
        "outputId": "f2c618e7-6767-493f-db0b-8b02106a9ebe"
      },
      "execution_count": 34,
      "outputs": [
        {
          "output_type": "stream",
          "name": "stdout",
          "text": [
            "외부 스크립트 실행\n"
          ]
        }
      ]
    },
    {
      "cell_type": "code",
      "source": [
        "test_a, test_b, result"
      ],
      "metadata": {
        "colab": {
          "base_uri": "https://localhost:8080/"
        },
        "id": "SX56JeBtyTrP",
        "outputId": "f6a8d480-1014-4f4f-c2d2-28eef807867e"
      },
      "execution_count": 36,
      "outputs": [
        {
          "output_type": "execute_result",
          "data": {
            "text/plain": [
              "(10, 20, 30)"
            ]
          },
          "metadata": {},
          "execution_count": 36
        }
      ]
    },
    {
      "cell_type": "code",
      "source": [
        "#명령문의 실행 시간을 측정하는 매직 명령어인 %timeit을 사용해본다\n",
        "#백만개의 숫자를 리스트에 담고 각 원소를 2배하는데 걸리는 시간을 측정\n",
        "a = list(range(1000000))\n",
        "%timeit [2*x for x in a]\n"
      ],
      "metadata": {
        "colab": {
          "base_uri": "https://localhost:8080/"
        },
        "id": "QEg4yGo0yqUI",
        "outputId": "6f9fbdc8-3380-4af0-88bd-204d9c99601d"
      },
      "execution_count": 39,
      "outputs": [
        {
          "output_type": "stream",
          "name": "stdout",
          "text": [
            "77.7 ms ± 4.27 ms per loop (mean ± std. dev. of 7 runs, 10 loops each)\n"
          ]
        }
      ]
    },
    {
      "cell_type": "code",
      "source": [
        "#현재 colab에서 작동하는 파이썬 버전 확인하기\n",
        "!python --version\n"
      ],
      "metadata": {
        "colab": {
          "base_uri": "https://localhost:8080/"
        },
        "id": "UDp2K83vzflv",
        "outputId": "58d3918e-c1d1-4e45-ec14-7d697bcb5b6f"
      },
      "execution_count": 40,
      "outputs": [
        {
          "output_type": "stream",
          "name": "stdout",
          "text": [
            "Python 3.10.12\n"
          ]
        }
      ]
    }
  ]
}