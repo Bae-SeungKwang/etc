{
  "nbformat": 4,
  "nbformat_minor": 0,
  "metadata": {
    "colab": {
      "provenance": [],
      "authorship_tag": "ABX9TyNI8d6W3VXuDsF655TJjTv7",
      "include_colab_link": true
    },
    "kernelspec": {
      "name": "python3",
      "display_name": "Python 3"
    },
    "language_info": {
      "name": "python"
    }
  },
  "cells": [
    {
      "cell_type": "markdown",
      "metadata": {
        "id": "view-in-github",
        "colab_type": "text"
      },
      "source": [
        "<a href=\"https://colab.research.google.com/github/Bae-SeungKwang/etc/blob/master/%5B2%EC%9E%A5%5D_Python_%EA%B8%B0%EB%B3%B8_240316.ipynb\" target=\"_parent\"><img src=\"https://colab.research.google.com/assets/colab-badge.svg\" alt=\"Open In Colab\"/></a>"
      ]
    },
    {
      "cell_type": "code",
      "source": [
        "# 2.1.2.5 문자역 인덱싱(indexing)\n",
        "string = 'apple'\n",
        "\n",
        "#첫번째 문자(인덱스 0)가져오기\n",
        "print('첫번째문자: ', string[0])\n",
        "\n",
        "#두번째 문자(인덱스 1)가져오기\n",
        "print('두번째문자: ', string[1])\n",
        "\n",
        "length = len(string)\n",
        "print('마지막문자 방법1: ', string[length-1])\n",
        "print('마지막문자 방법2: ', string[-1])\n",
        "print('뒤에서 3번째 문자: ', string[-3])"
      ],
      "metadata": {
        "colab": {
          "base_uri": "https://localhost:8080/"
        },
        "id": "qX27GCjBtoMx",
        "outputId": "f7f3f67e-2cdf-478f-9db4-d26ccc307bfb"
      },
      "execution_count": null,
      "outputs": [
        {
          "output_type": "stream",
          "name": "stdout",
          "text": [
            "첫번째문자:  a\n",
            "두번째문자:  p\n",
            "마지막문자 방법1:  e\n",
            "마지막문자 방법2:  e\n",
            "뒤에서 3번째 문자:  p\n"
          ]
        }
      ]
    },
    {
      "cell_type": "code",
      "source": [
        "# 2.1.2.5 문자열 슬라이싱(slicing)\n",
        "# 아래 문자에서 'are'만 출력하기\n",
        "string = 'who are you?'\n",
        "# 인덱싱을 활용한 방법\n",
        "new_string1 = string[4] + string[5] + string[6]\n",
        "# 슬라이싱을 활용한 방법\n",
        "new_string2 = string[4:7]\n",
        "new_string1, new_string2"
      ],
      "metadata": {
        "colab": {
          "base_uri": "https://localhost:8080/"
        },
        "id": "A-axqxLivWNx",
        "outputId": "c7b3761d-eff2-48c6-cbef-ec2663c126e4"
      },
      "execution_count": null,
      "outputs": [
        {
          "output_type": "execute_result",
          "data": {
            "text/plain": [
              "('are', 'are')"
            ]
          },
          "metadata": {},
          "execution_count": 14
        }
      ]
    },
    {
      "cell_type": "code",
      "source": [
        "# 2.1.2.5 문자열 슬라이싱(slicing)\n",
        "string = 'who are you?'\n",
        "\n",
        "#시작 인덱스를 생략하면 문자열의 처음(인덱스 0)부터 시작한다\n",
        "new_string1 = string[:4] #처음부터 인덱스 4미만 까지\n",
        "print(new_string1)\n",
        "print('-'*100)\n",
        "#끝 인덱스를 생략하면 문자열의 끝까지 진행한다\n",
        "new_string2 = string[8:] #인덱스 8에서 끝까지\n",
        "print(new_string2)"
      ],
      "metadata": {
        "colab": {
          "base_uri": "https://localhost:8080/"
        },
        "id": "lfI8cAXJtoKf",
        "outputId": "dab223eb-e10f-4f55-d6b6-0981e627f6c0"
      },
      "execution_count": null,
      "outputs": [
        {
          "output_type": "stream",
          "name": "stdout",
          "text": [
            "who \n",
            "----------------------------------------------------------------------------------------------------\n",
            "you?\n"
          ]
        }
      ]
    },
    {
      "cell_type": "code",
      "source": [
        "#2.1.2.7 문자열 포맷팅(formatting)\n",
        "#[1]숫자를 문자열에 바로 대입하기\n",
        "string1 = \"i am %d years old\" % 50\n",
        "print(string1)\n",
        "print('-'*100)\n",
        "\n",
        "#[2]숫자를 나타내는 변수로 대입\n",
        "num = 50\n",
        "string2 = \"i am %d years old\" % num\n",
        "print(string2)"
      ],
      "metadata": {
        "colab": {
          "base_uri": "https://localhost:8080/"
        },
        "id": "2wV0gTwgvvZC",
        "outputId": "33441275-3c71-4da0-ad47-6d1c3e95b2cd"
      },
      "execution_count": null,
      "outputs": [
        {
          "output_type": "stream",
          "name": "stdout",
          "text": [
            "i am 50 years old\n",
            "----------------------------------------------------------------------------------------------------\n",
            "i am 50 years old\n"
          ]
        }
      ]
    },
    {
      "cell_type": "code",
      "source": [
        "#2.1.2.7 문자열 포맷팅(formatting)\n",
        "#[3]문자열을 문자열에 바로 대입하기\n",
        "string3 = \"i am %s years old\" % 'fifty'\n",
        "print(string3)\n",
        "print('-'*100)\n",
        "\n",
        "#[4] 2개 이상의 값 넣기\n",
        "string4 = 'i am %d years %s.' % (50, 'old')\n",
        "print(string4)"
      ],
      "metadata": {
        "colab": {
          "base_uri": "https://localhost:8080/"
        },
        "id": "qEo8CUSjwE0Y",
        "outputId": "fc3ff463-1889-465a-9a7a-4e3d9049a1e2"
      },
      "execution_count": null,
      "outputs": [
        {
          "output_type": "stream",
          "name": "stdout",
          "text": [
            "i am fifty years old\n",
            "----------------------------------------------------------------------------------------------------\n",
            "i am 50 years old.\n"
          ]
        }
      ]
    },
    {
      "cell_type": "code",
      "source": [
        "#2.1.2.7 문자열 포맷팅(formatting)\n",
        "#소수점 표현하기. 소수점 4째자리까지만 표현(5째자리에서 반올림)\n",
        "\"%0.4f\" % 3.123456"
      ],
      "metadata": {
        "colab": {
          "base_uri": "https://localhost:8080/",
          "height": 35
        },
        "id": "zpDSViwEtoIN",
        "outputId": "5d51fa12-33ab-4193-9fae-0bb8e81df008"
      },
      "execution_count": null,
      "outputs": [
        {
          "output_type": "execute_result",
          "data": {
            "text/plain": [
              "'3.1235'"
            ],
            "application/vnd.google.colaboratory.intrinsic+json": {
              "type": "string"
            }
          },
          "metadata": {},
          "execution_count": 20
        }
      ]
    },
    {
      "cell_type": "code",
      "source": [
        "#2.1.2.7 문자열 포맷팅(formatting)\n",
        "#format함수를 사용한 포맷팅 -> 이 방법 추천 !!!\n",
        "#숫자\n",
        "string = \"I eat {0} apples\".format(3)\n",
        "print(string)\n",
        "print('-'*100)\n",
        "\n",
        "#변수\n",
        "num = 3\n",
        "string = \"I eat {0} apples\".format(num)\n",
        "print(string)\n",
        "print('-'*100)\n",
        "\n",
        "#문자열\n",
        "string = \"I eat {0} apples\".format('three')\n",
        "print(string)"
      ],
      "metadata": {
        "colab": {
          "base_uri": "https://localhost:8080/"
        },
        "id": "9YfuJJMQtoC3",
        "outputId": "b8fedd9f-7d09-4659-a6f7-8a5cbbf6507b"
      },
      "execution_count": null,
      "outputs": [
        {
          "output_type": "stream",
          "name": "stdout",
          "text": [
            "I eat 3 apples\n",
            "----------------------------------------------------------------------------------------------------\n",
            "I eat 3 apples\n",
            "----------------------------------------------------------------------------------------------------\n",
            "I eat three apples\n"
          ]
        }
      ]
    },
    {
      "cell_type": "code",
      "source": [
        "# 2개 이상의 값 넣기\n",
        "string = \"I eat {0} {1}\".format(3, 'bananas')\n",
        "print(string)\n",
        "print('-'*100)\n",
        "\n",
        "# 이름으로 넣기 (중요한 방법!!! )\n",
        "string = \"I eat {number} {name}\".format(number=3, name='orange')\n",
        "print(string)"
      ],
      "metadata": {
        "colab": {
          "base_uri": "https://localhost:8080/"
        },
        "id": "H7tPVvGew_gu",
        "outputId": "30a33c5c-c57f-48a5-ac63-af2bb52a25b6"
      },
      "execution_count": null,
      "outputs": [
        {
          "output_type": "stream",
          "name": "stdout",
          "text": [
            "I eat 3 bananas\n",
            "----------------------------------------------------------------------------------------------------\n",
            "I eat 3 orange\n"
          ]
        }
      ]
    },
    {
      "cell_type": "code",
      "source": [
        "# 2.1.2.8 문자열 정렬 (생략)"
      ],
      "metadata": {
        "id": "PpARsHEOw_pW"
      },
      "execution_count": null,
      "outputs": []
    },
    {
      "cell_type": "code",
      "source": [
        "# 2.1.2.9 문자열 관련 함수들\n",
        "#문자 개수 세기\n",
        "string = 'apple'\n",
        "string.count('p')\n",
        "#string.capitalize?\n",
        "#string.count('a')"
      ],
      "metadata": {
        "colab": {
          "base_uri": "https://localhost:8080/"
        },
        "id": "Qxkg9kV9w_rl",
        "outputId": "d4d1807e-2e95-4e8b-84c5-5e3a304fcf57"
      },
      "execution_count": null,
      "outputs": [
        {
          "output_type": "execute_result",
          "data": {
            "text/plain": [
              "2"
            ]
          },
          "metadata": {},
          "execution_count": 31
        }
      ]
    },
    {
      "cell_type": "code",
      "source": [
        "#위치 알려주기1(find)\n",
        "string = 'apple'\n",
        "print('index is ', string.find('l'))\n",
        "\n",
        "#찾는 문자가 여러개이면 가장 처음에 나온 문자의 인덱스를 반환\n",
        "print('first string for \"p\"?', string.find('p'))\n",
        "\n",
        "#존재하지 않는다면 -1을 반환\n",
        "print(string.find('u'))"
      ],
      "metadata": {
        "colab": {
          "base_uri": "https://localhost:8080/"
        },
        "id": "HFD-EmQ2w_tw",
        "outputId": "a2cceab5-e5a7-4da6-9efd-f5e996344bd0"
      },
      "execution_count": null,
      "outputs": [
        {
          "output_type": "stream",
          "name": "stdout",
          "text": [
            "index is  3\n",
            "first string for \"p\"? 1\n",
            "-1\n"
          ]
        }
      ]
    },
    {
      "cell_type": "code",
      "source": [
        "#위치 알려주기2(index)\n",
        "string = 'apple'\n",
        "print(string.index('a'))\n",
        "\n",
        "#찾는 문자가 여러개이면 가장 처음에 나온 문자의 인덱스를 반환\n",
        "print(string.index('p'))"
      ],
      "metadata": {
        "colab": {
          "base_uri": "https://localhost:8080/"
        },
        "id": "xAWKtLCuw_wE",
        "outputId": "001dcb5f-41fb-4623-9546-38c7d861acb6"
      },
      "execution_count": null,
      "outputs": [
        {
          "output_type": "stream",
          "name": "stdout",
          "text": [
            "0\n",
            "1\n"
          ]
        }
      ]
    },
    {
      "cell_type": "code",
      "source": [
        "#문자열 삽입(join)\n",
        "#'구분자'.join(적용할 문자열) 형식으로 사용한다\n",
        "# 아래의 예제는 문자열 사이에 각각 구분자인 $를 넣는다\n",
        "string = \"$\".join('apple')\n",
        "print(string)\n",
        "\n",
        "# 콤마(,)로 문자열 구분하기\n",
        "string = \",\".join('apple')\n",
        "print(string)"
      ],
      "metadata": {
        "colab": {
          "base_uri": "https://localhost:8080/"
        },
        "id": "9sfBe1ycw_yQ",
        "outputId": "c1037f0e-2e5b-49ba-cbf4-0bbf6720eae4"
      },
      "execution_count": null,
      "outputs": [
        {
          "output_type": "stream",
          "name": "stdout",
          "text": [
            "a$p$p$l$e\n",
            "a,p,p,l,e\n"
          ]
        }
      ]
    },
    {
      "cell_type": "code",
      "source": [
        "#소문자를 대문자로 바꾸기(upper)\n",
        "string = 'apple'\n",
        "print(string.upper())\n",
        "\n",
        "# 대문자를 소문자로 바꾸기(lower)\n",
        "string = 'APPLE'\n",
        "print(string.lower())"
      ],
      "metadata": {
        "colab": {
          "base_uri": "https://localhost:8080/"
        },
        "id": "fTdBzrLFw_0b",
        "outputId": "4cd4449c-14b0-4734-a3ba-f731340fc3f9"
      },
      "execution_count": null,
      "outputs": [
        {
          "output_type": "stream",
          "name": "stdout",
          "text": [
            "APPLE\n",
            "apple\n"
          ]
        }
      ]
    },
    {
      "cell_type": "code",
      "source": [
        "#왼쪽 공백 지우기(lstrip)\n",
        "string = ' apple '\n",
        "print(string.lstrip())\n",
        "#오른쪽 공백 지우기(rstrip)\n",
        "print(string.rstrip())\n",
        "#양쪽 공백 지우기(strip)\n",
        "print(string.strip())"
      ],
      "metadata": {
        "colab": {
          "base_uri": "https://localhost:8080/"
        },
        "id": "4ahJ4yfszf6z",
        "outputId": "0be5870f-7c19-44fd-ef6e-b81878f4d676"
      },
      "execution_count": null,
      "outputs": [
        {
          "output_type": "stream",
          "name": "stdout",
          "text": [
            "apple \n",
            " apple\n",
            "apple\n"
          ]
        }
      ]
    },
    {
      "cell_type": "code",
      "source": [
        "#문자열 바꾸기(replace)  *많이 사용됨\n",
        "string = 'apple is fruit'\n",
        "string.replace('apple', 'banana')"
      ],
      "metadata": {
        "colab": {
          "base_uri": "https://localhost:8080/",
          "height": 35
        },
        "id": "Uhky4n9fzgBx",
        "outputId": "cbdab2e7-74f1-4199-8ab7-ba2b281a3f3b"
      },
      "execution_count": null,
      "outputs": [
        {
          "output_type": "execute_result",
          "data": {
            "text/plain": [
              "'banana is fruit'"
            ],
            "application/vnd.google.colaboratory.intrinsic+json": {
              "type": "string"
            }
          },
          "metadata": {},
          "execution_count": 45
        }
      ]
    },
    {
      "cell_type": "code",
      "source": [
        "#문자열 나누기(split)\n",
        "#split 함수는 인자를 기준으로 문자열을 나눈다\n",
        "string = 'apple is fruit'\n",
        "print(string.split())\n",
        "\n",
        "#split함수에 인자를 넣어주면 인자를 기준으로 문자열을 나눈다\n",
        "string = 'a:b:c:d'\n",
        "print(string.split(':'))\n",
        "\n",
        "#여러줄로 표현된 문자열 읽어들이기\n",
        "string = '''\n",
        "he said\n",
        "who are you\n",
        "i am your father\n",
        "'''\n",
        "string.split('\\n')"
      ],
      "metadata": {
        "colab": {
          "base_uri": "https://localhost:8080/"
        },
        "id": "4NLEiO6UzgD4",
        "outputId": "b4ee726f-200c-407a-a2fa-073e5bd8b972"
      },
      "execution_count": null,
      "outputs": [
        {
          "output_type": "stream",
          "name": "stdout",
          "text": [
            "['apple', 'is', 'fruit']\n",
            "['a', 'b', 'c', 'd']\n"
          ]
        },
        {
          "output_type": "execute_result",
          "data": {
            "text/plain": [
              "['', 'he said', 'who are you', 'i am your father', '']"
            ]
          },
          "metadata": {},
          "execution_count": 48
        }
      ]
    },
    {
      "cell_type": "code",
      "source": [
        "#문자열 형변환.\n",
        "a = 5.6\n",
        "a?\n",
        "s = str(a) #str 함수를 사용하면 문자열로 변경가능하다\n",
        "print(s)\n",
        "#s?\n"
      ],
      "metadata": {
        "colab": {
          "base_uri": "https://localhost:8080/"
        },
        "id": "ezkHPpuWzgGB",
        "outputId": "665411be-88cc-490e-a75f-28687385c2ab"
      },
      "execution_count": null,
      "outputs": [
        {
          "output_type": "stream",
          "name": "stdout",
          "text": [
            "5.6\n"
          ]
        }
      ]
    },
    {
      "cell_type": "code",
      "source": [
        "#문자열 --> 리스트 변환\n",
        "s = 'python'\n",
        "list(s) #리스트로 변환하는 경우 한글자씩 잘라서 원소로 변환한다"
      ],
      "metadata": {
        "colab": {
          "base_uri": "https://localhost:8080/"
        },
        "id": "rS-Gd3FDzgIO",
        "outputId": "8b48c2b1-e7bd-4c69-ee3f-3e17c43997f3"
      },
      "execution_count": null,
      "outputs": [
        {
          "output_type": "execute_result",
          "data": {
            "text/plain": [
              "['p', 'y', 't', 'h', 'o', 'n']"
            ]
          },
          "metadata": {},
          "execution_count": 50
        }
      ]
    },
    {
      "cell_type": "code",
      "source": [
        "# '\\' 기호를 문자열 안에 넣고 싶은 경우 \\ 2개를 넣어주어야 한다\n",
        "s = '12\\\\34'\n",
        "print(s)"
      ],
      "metadata": {
        "colab": {
          "base_uri": "https://localhost:8080/"
        },
        "id": "LASbwfi8zgKH",
        "outputId": "166fcdc2-5dee-4ac4-f7eb-8401c9e0adf9"
      },
      "execution_count": null,
      "outputs": [
        {
          "output_type": "stream",
          "name": "stdout",
          "text": [
            "12\\34\n"
          ]
        }
      ]
    },
    {
      "cell_type": "code",
      "source": [
        "# 2.1.3 Booleans(불리언)\n",
        "condition1 = (1 == 1)\n",
        "condition2 = (2 > 1)\n",
        "condition3 = (2 < 1)\n",
        "condition1, condition2, condition3"
      ],
      "metadata": {
        "colab": {
          "base_uri": "https://localhost:8080/"
        },
        "id": "E9mzBUst0K07",
        "outputId": "2a328daa-2a19-45a9-b340-14487a35be6f"
      },
      "execution_count": null,
      "outputs": [
        {
          "output_type": "execute_result",
          "data": {
            "text/plain": [
              "(True, True, False)"
            ]
          },
          "metadata": {},
          "execution_count": 52
        }
      ]
    },
    {
      "cell_type": "code",
      "source": [
        "# 2.1.3 Booleans(불리언)\n",
        "# 파이썬 자료형의 참과 거짓을 구분하는 기준으로 짚고 넘어감 (중간고사 프로젝트 !!!!!!!!!!!!!!!!!!!!!!!)\n",
        "conditions = ['python', \"\", [1,2,3,], [], (), {}, 1, 0, None]\n",
        "for condition in conditions :\n",
        "  if condition:\n",
        "    print(condition, True)\n",
        "  else:\n",
        "    print(condition, False)"
      ],
      "metadata": {
        "colab": {
          "base_uri": "https://localhost:8080/"
        },
        "id": "gqJFxT0H0K3D",
        "outputId": "84b38520-3cdb-459b-dd8d-40bd8d9a4f87"
      },
      "execution_count": null,
      "outputs": [
        {
          "output_type": "stream",
          "name": "stdout",
          "text": [
            "python True\n",
            " False\n",
            "[1, 2, 3] True\n",
            "[] False\n",
            "() False\n",
            "{} False\n",
            "1 True\n",
            "0 False\n",
            "None False\n"
          ]
        }
      ]
    },
    {
      "cell_type": "code",
      "source": [
        "# 2.1.5 None\n",
        "# None이란 값이 없는 변수를 나타내는 자료형\n",
        "scores = {'1번 학생': 40, '2번 학생': 60, '3번 학생': None}\n",
        "scores"
      ],
      "metadata": {
        "colab": {
          "base_uri": "https://localhost:8080/"
        },
        "id": "rsxOGCzG0K5P",
        "outputId": "4f62cd4f-435e-4f7c-9e89-c8a382b67d05"
      },
      "execution_count": null,
      "outputs": [
        {
          "output_type": "execute_result",
          "data": {
            "text/plain": [
              "{'1번 학생': 40, '2번 학생': 60, '3번 학생': None}"
            ]
          },
          "metadata": {},
          "execution_count": 57
        }
      ]
    },
    {
      "cell_type": "code",
      "source": [
        "#[2] 값이 '없음' 인 경우\n",
        "#결혼 여부를 판단하는 경우\n",
        "#아래의 경우 장길산은 결혼하지 않았음을 나타낼 수 있다\n",
        "marriage = {'홍길동':'김영희', '김철수':'김희영', '장길산': None}\n",
        "for key, value in marriage.items():\n",
        "  if marriage[key] is None:\n",
        "    print(key, '는 미혼임')\n",
        "  else:\n",
        "    print(key, '는', marriage[key], '와 결혼함')"
      ],
      "metadata": {
        "colab": {
          "base_uri": "https://localhost:8080/"
        },
        "id": "wPhBCKXq0K7g",
        "outputId": "d542618b-2872-4c65-bcd7-f236c6e537b5"
      },
      "execution_count": null,
      "outputs": [
        {
          "output_type": "stream",
          "name": "stdout",
          "text": [
            "홍길동 는 김영희 와 결혼함\n",
            "김철수 는 김희영 와 결혼함\n",
            "장길산 는 미혼임\n"
          ]
        }
      ]
    },
    {
      "cell_type": "code",
      "source": [
        "#[3] 값이 정의되지 않은 경우\n",
        "def add(x,y):\n",
        "  return None\n",
        "\n",
        "result = add(3,4)\n",
        "print(result)"
      ],
      "metadata": {
        "colab": {
          "base_uri": "https://localhost:8080/"
        },
        "id": "3xSok4Tp0K94",
        "outputId": "22443527-117a-48c1-d973-fab8e1c573b4"
      },
      "execution_count": null,
      "outputs": [
        {
          "output_type": "stream",
          "name": "stdout",
          "text": [
            "None\n"
          ]
        }
      ]
    },
    {
      "cell_type": "code",
      "source": [
        "#2.1.6 Dates and times(날짜와 시간)\n",
        "from datetime import datetime, date, time\n",
        "dt = datetime(2021, 5, 16, 20, 30, 21)\n",
        "#연, 월, 일, 시, 분, 초의 경우 dt의 속성(attribute)으로 접근할 수 있다\n",
        "dt.year, dt.month, dt.day, dt.hour, dt.minute, dt.second"
      ],
      "metadata": {
        "colab": {
          "base_uri": "https://localhost:8080/"
        },
        "id": "TCP9eXF_2fCB",
        "outputId": "7a067370-4402-4e10-9c6d-e8c987ba1581"
      },
      "execution_count": null,
      "outputs": [
        {
          "output_type": "execute_result",
          "data": {
            "text/plain": [
              "(2021, 5, 16, 20, 30, 21)"
            ]
          },
          "metadata": {},
          "execution_count": 66
        }
      ]
    },
    {
      "cell_type": "code",
      "source": [
        "#연, 월, 일만 확인하고자 하는 경우\n",
        "print(dt.date())\n",
        "#시, 분, 초만 확인하고자 하는 경우\n",
        "print(dt.time())"
      ],
      "metadata": {
        "colab": {
          "base_uri": "https://localhost:8080/"
        },
        "id": "rkcPv7sv238a",
        "outputId": "c6d322a7-7172-4092-a354-4463c77a88cf"
      },
      "execution_count": null,
      "outputs": [
        {
          "output_type": "stream",
          "name": "stdout",
          "text": [
            "2021-05-16\n",
            "20:30:21\n"
          ]
        }
      ]
    },
    {
      "cell_type": "code",
      "source": [
        "# 2.1.7 확인 문제\n",
        "# Q1. 아래 자동차 번호의 뒤의 4자리만 출력\n",
        "license_plate = \"24가 2210\"\n",
        "print(license_plate[-4:])"
      ],
      "metadata": {
        "colab": {
          "base_uri": "https://localhost:8080/"
        },
        "id": "DwGwtHPz2fJM",
        "outputId": "568cc426-20ee-4c85-a201-498f0ef5ba81"
      },
      "execution_count": null,
      "outputs": [
        {
          "output_type": "stream",
          "name": "stdout",
          "text": [
            "2210\n"
          ]
        }
      ]
    },
    {
      "cell_type": "code",
      "source": [
        "# 2.1.7 확인 문제\n",
        "# Q2 아래의 문자열에서 '홀'만 출력\n",
        "string = '홀짝홀짝홀짝홀짝'\n",
        "print(string[::2])\n",
        "print(string[2::2]) #test\n",
        "print(string[1::3]) #test"
      ],
      "metadata": {
        "colab": {
          "base_uri": "https://localhost:8080/"
        },
        "id": "2gSel6ne2fLW",
        "outputId": "ea66c514-d6f0-4ea3-eb7b-6a6feeaeaea8"
      },
      "execution_count": null,
      "outputs": [
        {
          "output_type": "stream",
          "name": "stdout",
          "text": [
            "홀홀홀홀\n",
            "홀홀홀\n",
            "짝홀짝\n"
          ]
        }
      ]
    },
    {
      "cell_type": "code",
      "source": [
        "# 2.1.7 확인 문제\n",
        "# Q3 문자열을 거꾸로 뒤집어 출력\n",
        "string = 'python'\n",
        "print(string[::-1])"
      ],
      "metadata": {
        "colab": {
          "base_uri": "https://localhost:8080/"
        },
        "id": "TyPvRwBj2fNz",
        "outputId": "7c828689-255d-4aa4-ac1c-0cbf8eb83fae"
      },
      "execution_count": null,
      "outputs": [
        {
          "output_type": "stream",
          "name": "stdout",
          "text": [
            "nohtyp\n"
          ]
        }
      ]
    },
    {
      "cell_type": "code",
      "source": [
        "# 2.1.7 확인 문제\n",
        "# Q4 아래 전화번호에서 하이픈('-')을 제거하고 출력\n",
        "phone_number = '010-1111-2222'\n",
        "print(phone_number.replace('-', ' '))"
      ],
      "metadata": {
        "colab": {
          "base_uri": "https://localhost:8080/"
        },
        "id": "dh1Irx5yP51Q",
        "outputId": "f46a75be-2540-40f2-ce36-68320eb25e98"
      },
      "execution_count": null,
      "outputs": [
        {
          "output_type": "stream",
          "name": "stdout",
          "text": [
            "010 1111 2222\n"
          ]
        }
      ]
    },
    {
      "cell_type": "code",
      "source": [
        "# 2.1.7 확인 문제\n",
        "# Q5 아래 변수에 할당된 값의 타입을 판별\n",
        "\n",
        "a = '123'\n",
        "b = 123\n",
        "c = 123.0\n",
        "\n",
        "type_a = type(a)\n",
        "type_b = type(b)\n",
        "type_c = type(c)\n",
        "\n",
        "print(\"변수 a 타입:\", type_a)\n",
        "print(\"변수 b 타입:\", type_b)\n",
        "print(\"변수 c 타입:\", type_c)"
      ],
      "metadata": {
        "colab": {
          "base_uri": "https://localhost:8080/"
        },
        "id": "DfNiEcp_RM57",
        "outputId": "8de5d2ce-f42f-4636-8540-e3ad8cf50d9f"
      },
      "execution_count": null,
      "outputs": [
        {
          "output_type": "stream",
          "name": "stdout",
          "text": [
            "변수 a 타입: <class 'str'>\n",
            "변수 b 타입: <class 'int'>\n",
            "변수 c 타입: <class 'float'>\n"
          ]
        }
      ]
    },
    {
      "cell_type": "code",
      "source": [
        "# 2.1.7 확인 문제\n",
        "# Q5 다음의 요구조건에 따라 타입을 변경\n",
        "#   1. 문자열(정수)은 정수로 변환\n",
        "#   2. 정수는 문자열로 변환\n",
        "#   3. 문자열(실수)는 실수로 변환\n",
        "\n",
        "var1 = '720'\n",
        "var2 = 100\n",
        "var3 = '700.0'\n",
        "\n",
        "var1 = int(var1) # 문자열(정수)은 정수로 변환\n",
        "var2 = str(var2) # 정수는 문자열로 변환\n",
        "var3 = float(var3) # 문자열(실수)는 실수로 변환\n",
        "\n",
        "print(\"변환된 var1의 타입:\", type(var1))\n",
        "print(\"변환된 var2의 타입:\", type(var2))\n",
        "print(\"변환된 var3의 타입:\", type(var3))"
      ],
      "metadata": {
        "colab": {
          "base_uri": "https://localhost:8080/"
        },
        "id": "5jqER8onTZH9",
        "outputId": "2808b159-9cb7-42f3-f83f-2bb40d53e910"
      },
      "execution_count": null,
      "outputs": [
        {
          "output_type": "stream",
          "name": "stdout",
          "text": [
            "변환된 var1의 타입: <class 'int'>\n",
            "변환된 var2의 타입: <class 'str'>\n",
            "변환된 var3의 타입: <class 'float'>\n"
          ]
        }
      ]
    },
    {
      "cell_type": "code",
      "source": [
        "# 2.2 Control Flow(흐름 제어)\n",
        "# 2.2.3.3 무한 루프\n",
        "#햄버거 판매점의 키오스크에서 돌아가는 프로그램\n",
        "prompt = '''\n",
        "#주문은 어떤것으로 하시겠습니까?\n",
        "#1. 햄버거\n",
        "#2. 음료\n",
        "#3. 종료\n",
        "#4. 키오스크 종료\n",
        "#'''\n",
        "#아래의 키오스크는 종업원이 종료하기 전까지 계속 반복해서 동작할 것이다\n",
        "shopping_list = []\n",
        "while True:\n",
        "  print(prompt)\n",
        "  select = int(input())\n",
        "  if select == 1:\n",
        "    shopping_list.append('햄버거')\n",
        "    print('햄버거를 선택하셨습니다')\n",
        "  elif select == 2:\n",
        "      shopping_list.append('음료')\n",
        "      print('음료를 선택하셨습니다')\n",
        "  elif select == 3:\n",
        "      for food in shopping_list:\n",
        "        print(food, end=' ')\n",
        "      shopping_list = []\n",
        "      print('주문 감사합니다. 다음에 또 와주세요')\n",
        "\n",
        "  else:\n",
        "    break\n"
      ],
      "metadata": {
        "colab": {
          "base_uri": "https://localhost:8080/"
        },
        "id": "zIdY0Tod-sTj",
        "outputId": "b6ba5532-6656-453a-c84e-bfea3adf3e38"
      },
      "execution_count": null,
      "outputs": [
        {
          "name": "stdout",
          "output_type": "stream",
          "text": [
            "\n",
            "#주문은 어떤것으로 하시겠습니까?\n",
            "#1. 햄버거\n",
            "#2. 음료\n",
            "#3. 종료\n",
            "#4. 키오스크 종료\n",
            "#\n",
            "1\n",
            "햄버거를 선택하셨습니다\n",
            "\n",
            "#주문은 어떤것으로 하시겠습니까?\n",
            "#1. 햄버거\n",
            "#2. 음료\n",
            "#3. 종료\n",
            "#4. 키오스크 종료\n",
            "#\n",
            "2\n",
            "음료를 선택하셨습니다\n",
            "\n",
            "#주문은 어떤것으로 하시겠습니까?\n",
            "#1. 햄버거\n",
            "#2. 음료\n",
            "#3. 종료\n",
            "#4. 키오스크 종료\n",
            "#\n",
            "3\n",
            "햄버거 음료 주문 감사합니다. 다음에 또 와주세요\n",
            "\n",
            "#주문은 어떤것으로 하시겠습니까?\n",
            "#1. 햄버거\n",
            "#2. 음료\n",
            "#3. 종료\n",
            "#4. 키오스크 종료\n",
            "#\n",
            "4\n"
          ]
        }
      ]
    },
    {
      "cell_type": "code",
      "source": [
        "# 3장. 내장 자료구조, 함수, 파일\n",
        "# 1.1.1 리스트 생성\n",
        "\n",
        "#[2] 리스트 생성하고 초기화하기\n",
        "a = [2, 3, 7]\n",
        "#[3] range 함수를 이용하여 리스트 초기화하기\n",
        "a = list(range(1,10)) #1이상 10미만의 정수를 담는 리스트 생성\n",
        "b = list(range(1, 10, 2)) #1이상 10미만의 정수중에서 홀수만 담는 리스트 생성\n",
        "a,b"
      ],
      "metadata": {
        "colab": {
          "base_uri": "https://localhost:8080/"
        },
        "id": "aAD0yfyHB93z",
        "outputId": "00b91672-0381-4953-d7b6-7fc550faa289"
      },
      "execution_count": null,
      "outputs": [
        {
          "output_type": "execute_result",
          "data": {
            "text/plain": [
              "([1, 2, 3, 4, 5, 6, 7, 8, 9], [1, 3, 5, 7, 9])"
            ]
          },
          "metadata": {},
          "execution_count": 103
        }
      ]
    },
    {
      "cell_type": "code",
      "source": [
        "#1.1.2 리스트 인덱싱(List Indexing)\n",
        "\n",
        "a = [ [1,2], [3,4], [5,6] ]\n",
        "print('원본리스트:', a)\n",
        "print('-'*100)\n",
        "\n",
        "#a의 첫번째 원소\n",
        "print('a의 첫번째 행: ', a[0])\n",
        "print('-'*100)\n",
        "\n",
        "#a의 첫번째 원소에서 첫번째 원소\n",
        "print('a의 첫번째 행에서 첫번째 열: ', a[0][0])"
      ],
      "metadata": {
        "colab": {
          "base_uri": "https://localhost:8080/"
        },
        "id": "Bln_J1uQB974",
        "outputId": "1b780db7-5fe8-4bac-e95e-a08b6fcfa065"
      },
      "execution_count": null,
      "outputs": [
        {
          "output_type": "stream",
          "name": "stdout",
          "text": [
            "원본리스트: [[1, 2], [3, 4], [5, 6]]\n",
            "----------------------------------------------------------------------------------------------------\n",
            "a의 첫번째 행:  [1, 2]\n",
            "----------------------------------------------------------------------------------------------------\n",
            "a의 첫번째 행에서 첫번째 열:  1\n"
          ]
        }
      ]
    },
    {
      "cell_type": "code",
      "source": [
        "a = [ [1,2], [3,4], [5,6] ]\n",
        "print('원본리스트:', a)\n",
        "print('-'*100)\n",
        "\n",
        "#a의 첫번째 원소\n",
        "print('a의 첫번째 행: ', a[0])\n",
        "print('-'*100)\n",
        "\n",
        "#a의 마지막 원소에서 마지막 원소\n",
        "print('a의 마지막 행에서 마지막 열: ', a[-1][-1])"
      ],
      "metadata": {
        "colab": {
          "base_uri": "https://localhost:8080/"
        },
        "id": "NI3FV9kwB9-F",
        "outputId": "fbf6e653-cc7f-4fea-fbe8-4dc0d55b1590"
      },
      "execution_count": null,
      "outputs": [
        {
          "output_type": "stream",
          "name": "stdout",
          "text": [
            "원본리스트: [[1, 2], [3, 4], [5, 6]]\n",
            "----------------------------------------------------------------------------------------------------\n",
            "a의 첫번째 행:  [1, 2]\n",
            "----------------------------------------------------------------------------------------------------\n",
            "a의 마지막 행에서 마지막 열:  6\n"
          ]
        }
      ]
    },
    {
      "cell_type": "code",
      "source": [
        "#[1] 리스트와 같은 자료형(배열, 튜플, ndarray)은 색인 연산자 [] 안에 시작:끝 을 지정해서 원하\n",
        "#리스트[시작:끝:간격]\n",
        "#[1] 슬라이싱 기본. 아래의 예제는 seq라는 리스트의 0번 인덱스에서 5번 인덱스 사이의 리스트만\n",
        "seq = [1,2,3,4,5,6,7]\n",
        "seq[0:5]"
      ],
      "metadata": {
        "colab": {
          "base_uri": "https://localhost:8080/"
        },
        "id": "Hx0xNWJTB-Ac",
        "outputId": "769c77c6-be39-4a2d-fa1b-0488ec9e93d3"
      },
      "execution_count": null,
      "outputs": [
        {
          "output_type": "execute_result",
          "data": {
            "text/plain": [
              "[1, 2, 3, 4, 5]"
            ]
          },
          "metadata": {},
          "execution_count": 111
        }
      ]
    },
    {
      "cell_type": "code",
      "source": [
        "seq = [1,2,3,4,5,6,7]\n",
        "seq[0:2]"
      ],
      "metadata": {
        "colab": {
          "base_uri": "https://localhost:8080/"
        },
        "id": "bic5e4dwB-CU",
        "outputId": "36937268-3a4b-48d0-c9dc-3b9f9894dd62"
      },
      "execution_count": null,
      "outputs": [
        {
          "output_type": "execute_result",
          "data": {
            "text/plain": [
              "[1, 2]"
            ]
          },
          "metadata": {},
          "execution_count": 112
        }
      ]
    },
    {
      "cell_type": "code",
      "source": [
        "seq = [1,2,3,4,5,6,7]\n",
        "print('0번에서 5번까지: ', seq[:5])\n",
        "print('-'*100)\n",
        "print('3번에서 끝까지: ', seq[3:])"
      ],
      "metadata": {
        "colab": {
          "base_uri": "https://localhost:8080/"
        },
        "id": "8E8m6rJKDT83",
        "outputId": "f5872607-eb97-476f-bb03-8718eb0a88c3"
      },
      "execution_count": null,
      "outputs": [
        {
          "output_type": "stream",
          "name": "stdout",
          "text": [
            "0번에서 5번까지:  [1, 2, 3, 4, 5]\n",
            "----------------------------------------------------------------------------------------------------\n",
            "3번에서 끝까지:  [4, 5, 6, 7]\n"
          ]
        }
      ]
    },
    {
      "cell_type": "code",
      "source": [
        "seq = [1,2,3,4,5,6,7]\n",
        "print(seq[::2])\n",
        "print('-'*100)\n",
        "\n",
        "#홀수번째 인덱스만 가져오기\n",
        "print(seq[1::2])"
      ],
      "metadata": {
        "colab": {
          "base_uri": "https://localhost:8080/"
        },
        "id": "BXR6I9h1DT_R",
        "outputId": "cabf1d4d-c184-4122-a65d-60d2c7f11eb3"
      },
      "execution_count": null,
      "outputs": [
        {
          "output_type": "stream",
          "name": "stdout",
          "text": [
            "[1, 3, 5, 7]\n",
            "----------------------------------------------------------------------------------------------------\n",
            "[2, 4, 6]\n"
          ]
        }
      ]
    },
    {
      "cell_type": "code",
      "source": [
        "#1.1.4 리스트 연산하기\n",
        "a = [1,2,3]\n",
        "b = [4,5,6]\n",
        "a + b"
      ],
      "metadata": {
        "colab": {
          "base_uri": "https://localhost:8080/"
        },
        "id": "Wn8oW-MxDUBy",
        "outputId": "d94b81b8-a71a-429d-c8bb-420d78fb51d2"
      },
      "execution_count": null,
      "outputs": [
        {
          "output_type": "execute_result",
          "data": {
            "text/plain": [
              "[1, 2, 3, 4, 5, 6]"
            ]
          },
          "metadata": {},
          "execution_count": 121
        }
      ]
    },
    {
      "cell_type": "code",
      "source": [
        "a = [1,2,3]\n",
        "a * 3"
      ],
      "metadata": {
        "colab": {
          "base_uri": "https://localhost:8080/"
        },
        "id": "B0ewjMTPDUD9",
        "outputId": "6607d2dc-dae8-407d-da10-ccbee55ccfa3"
      },
      "execution_count": null,
      "outputs": [
        {
          "output_type": "execute_result",
          "data": {
            "text/plain": [
              "[1, 2, 3, 1, 2, 3, 1, 2, 3]"
            ]
          },
          "metadata": {},
          "execution_count": 116
        }
      ]
    },
    {
      "cell_type": "code",
      "source": [
        "a = [1,2,3]\n",
        "len(a)"
      ],
      "metadata": {
        "colab": {
          "base_uri": "https://localhost:8080/"
        },
        "id": "X12cJey_DUF9",
        "outputId": "a6b49860-8ca9-42f1-b6b0-068b5b6c78f4"
      },
      "execution_count": null,
      "outputs": [
        {
          "output_type": "execute_result",
          "data": {
            "text/plain": [
              "3"
            ]
          },
          "metadata": {},
          "execution_count": 117
        }
      ]
    },
    {
      "cell_type": "code",
      "source": [
        "# 1,1,5 리스트 원소 삽입,수정,삭제\n",
        "#[1] 리스트에서 값 삽입하기\n",
        "a = [1,2,3]\n",
        "print('원본: ', a)\n",
        "print('-'*100)\n",
        "\n",
        "#[1-1] append 함수\n",
        "a.append(4)\n",
        "print(a)\n",
        "print('-'*100)\n",
        "\n",
        "#[1-2] 리스트 더하기 사용하기\n",
        "print(a + [6])\n",
        "print('-'*100)"
      ],
      "metadata": {
        "colab": {
          "base_uri": "https://localhost:8080/"
        },
        "id": "ykFwwnVuD9ff",
        "outputId": "b26e3b28-f478-47d6-b505-6177bb3fe6c8"
      },
      "execution_count": null,
      "outputs": [
        {
          "output_type": "stream",
          "name": "stdout",
          "text": [
            "원본:  [1, 2, 3]\n",
            "----------------------------------------------------------------------------------------------------\n",
            "[1, 2, 3, 4]\n",
            "----------------------------------------------------------------------------------------------------\n",
            "[1, 2, 3, 4, 6]\n",
            "----------------------------------------------------------------------------------------------------\n"
          ]
        }
      ]
    },
    {
      "cell_type": "code",
      "source": [
        "#[2] 리스트에서 값 삽입하기2\n",
        "#a = [1,2,3]\n",
        "a = [3,7,8,5]\n",
        "a.insert(1, 'red')\n",
        "a"
      ],
      "metadata": {
        "colab": {
          "base_uri": "https://localhost:8080/"
        },
        "id": "vifC-nVeD9hv",
        "outputId": "49d1161c-6339-4105-84e1-49df1fb03274"
      },
      "execution_count": null,
      "outputs": [
        {
          "output_type": "execute_result",
          "data": {
            "text/plain": [
              "[3, 'red', 7, 8, 5]"
            ]
          },
          "metadata": {},
          "execution_count": 126
        }
      ]
    },
    {
      "cell_type": "code",
      "source": [
        "#[2] 리스트에서 값 삽입하기3\n",
        "a = [1,2,3]\n",
        "b = [4,5]\n",
        "a.extend(b)\n",
        "c = a + b\n",
        "a, c"
      ],
      "metadata": {
        "colab": {
          "base_uri": "https://localhost:8080/"
        },
        "id": "Yj51BSozEtq1",
        "outputId": "2a705035-5b9e-4c40-d984-a7bae4902c95"
      },
      "execution_count": null,
      "outputs": [
        {
          "output_type": "execute_result",
          "data": {
            "text/plain": [
              "([1, 2, 3, 4, 5], [1, 2, 3, 4, 5, 4, 5])"
            ]
          },
          "metadata": {},
          "execution_count": 130
        }
      ]
    },
    {
      "cell_type": "code",
      "source": [
        "#[3] 리스트에서 값 수정하기\n",
        "a = [1,2,3]\n",
        "a[2] = 4\n",
        "a"
      ],
      "metadata": {
        "colab": {
          "base_uri": "https://localhost:8080/"
        },
        "id": "HYzMHyt3D9j5",
        "outputId": "5c5bad55-d6a5-4cad-cea1-173497027109"
      },
      "execution_count": null,
      "outputs": [
        {
          "output_type": "execute_result",
          "data": {
            "text/plain": [
              "[1, 2, 4]"
            ]
          },
          "metadata": {},
          "execution_count": 125
        }
      ]
    },
    {
      "cell_type": "code",
      "source": [
        "#[4-4] pop 메서드 (삭제)\n",
        "a = [1,2,3,4,5]\n",
        "return_value = a.pop(2)\n",
        "a, return_value"
      ],
      "metadata": {
        "colab": {
          "base_uri": "https://localhost:8080/"
        },
        "id": "WZmXYT0ID9mO",
        "outputId": "818769fb-1c63-4f96-84a1-4c17e0e1be78"
      },
      "execution_count": null,
      "outputs": [
        {
          "output_type": "execute_result",
          "data": {
            "text/plain": [
              "([1, 2, 4, 5], 3)"
            ]
          },
          "metadata": {},
          "execution_count": 133
        }
      ]
    },
    {
      "cell_type": "code",
      "source": [
        "# 1.1.6 정렬(Sorting)\n",
        "#[1] 오름차순 정렬\n",
        "a = [7, 2, 5, 1, 3]\n",
        "a.sort()\n",
        "a"
      ],
      "metadata": {
        "colab": {
          "base_uri": "https://localhost:8080/"
        },
        "id": "xmh_ZaoHEg2X",
        "outputId": "cecc2a44-f831-4847-c136-771ccbeda6b4"
      },
      "execution_count": null,
      "outputs": [
        {
          "output_type": "execute_result",
          "data": {
            "text/plain": [
              "[1, 2, 3, 5, 7]"
            ]
          },
          "metadata": {},
          "execution_count": 134
        }
      ]
    },
    {
      "cell_type": "code",
      "source": [
        "#[2] 내림차순 정렬\n",
        "a = [7, 2, 5, 1, 3]\n",
        "a.sort()\n",
        "#a = a[::-1] # 역순 재배열\n",
        "a.reverse # 함수 이용\n",
        "a"
      ],
      "metadata": {
        "colab": {
          "base_uri": "https://localhost:8080/"
        },
        "id": "ZXEGNXByEg4n",
        "outputId": "b0197623-368e-4dd6-fc59-b8d2e11446cd"
      },
      "execution_count": null,
      "outputs": [
        {
          "output_type": "execute_result",
          "data": {
            "text/plain": [
              "[1, 2, 3, 5, 7]"
            ]
          },
          "metadata": {},
          "execution_count": 139
        }
      ]
    },
    {
      "cell_type": "code",
      "source": [
        "#[3] 기준을 적용하여 내부 값 정렬\n",
        "b = ['saw', 'small', 'He', 'foxes', 'six']\n",
        "b.sort(key=len)\n",
        "b"
      ],
      "metadata": {
        "colab": {
          "base_uri": "https://localhost:8080/"
        },
        "id": "oSzhxl0jEg65",
        "outputId": "6fc80731-e9b0-4127-fcc1-b91f8afd9683"
      },
      "execution_count": null,
      "outputs": [
        {
          "output_type": "execute_result",
          "data": {
            "text/plain": [
              "['He', 'saw', 'six', 'small', 'foxes']"
            ]
          },
          "metadata": {},
          "execution_count": 136
        }
      ]
    },
    {
      "cell_type": "code",
      "source": [
        "# 1,2 튜플\n",
        "# 1.2.1 튜플의 생성 (리스트와 달리 수정할 수 없다)\n",
        "# [1] 1개 값 튜플 생성\n",
        "with_comma_tup = (1,)\n",
        "without_comma_tup = (1)\n",
        "type(with_comma_tup), type(without_comma_tup)"
      ],
      "metadata": {
        "colab": {
          "base_uri": "https://localhost:8080/"
        },
        "id": "DveLuGjyF4Op",
        "outputId": "6f69485f-2c3a-465f-fbda-08c246715a10"
      },
      "execution_count": null,
      "outputs": [
        {
          "output_type": "execute_result",
          "data": {
            "text/plain": [
              "(tuple, int)"
            ]
          },
          "metadata": {},
          "execution_count": 141
        }
      ]
    },
    {
      "cell_type": "code",
      "source": [
        "# [2] 튜플에 값 여러개 넣기\n",
        "tup1 = 4, 5, 6\n",
        "tup2 = (4,5,6)\n",
        "print(tup1, tup2)"
      ],
      "metadata": {
        "colab": {
          "base_uri": "https://localhost:8080/"
        },
        "id": "XLo4UMdIF4Qs",
        "outputId": "24815c79-caaa-43c9-c55b-de045395c71b"
      },
      "execution_count": null,
      "outputs": [
        {
          "output_type": "stream",
          "name": "stdout",
          "text": [
            "(4, 5, 6) (4, 5, 6)\n"
          ]
        }
      ]
    },
    {
      "cell_type": "code",
      "source": [
        "# [3] 중첩된(nested) 튜플 생성\n",
        "nested_tup = (4, 5, 6), (7, 8)\n",
        "nested_tup"
      ],
      "metadata": {
        "colab": {
          "base_uri": "https://localhost:8080/"
        },
        "id": "1jTgJqBFF4S4",
        "outputId": "30bc09ef-06f3-44a6-e35f-dd778239ec1e"
      },
      "execution_count": null,
      "outputs": [
        {
          "output_type": "execute_result",
          "data": {
            "text/plain": [
              "((4, 5, 6), (7, 8))"
            ]
          },
          "metadata": {},
          "execution_count": 144
        }
      ]
    },
    {
      "cell_type": "code",
      "source": [
        "# [4] 다른 자료형에서 튜플 생성\n",
        "# 아래는 리스트와 문자열이 튜플로 변환되면 어떻게 되는지 보여준다\n",
        "tup1 = tuple([4,0,2])\n",
        "tup2 = tuple('string')\n",
        "print(tup1,tup2)"
      ],
      "metadata": {
        "colab": {
          "base_uri": "https://localhost:8080/"
        },
        "id": "KzwoUgv8F4VN",
        "outputId": "4447e45b-3ac7-413d-aa42-9ac7f188d441"
      },
      "execution_count": null,
      "outputs": [
        {
          "output_type": "stream",
          "name": "stdout",
          "text": [
            "(4, 0, 2) ('s', 't', 'r', 'i', 'n', 'g')\n"
          ]
        }
      ]
    },
    {
      "cell_type": "code",
      "source": [
        "# 1.2.5 튜플 메서드\n",
        "# [1] count 메서드. a가 튜플 a에 몇개나 있는지 세어본다\n",
        "a = (1, 2, 2, 2, 3, 4, 2)\n",
        "a.count(2)"
      ],
      "metadata": {
        "colab": {
          "base_uri": "https://localhost:8080/"
        },
        "id": "tYBRxnWWF4XY",
        "outputId": "c594a6cf-a055-43a0-81fa-948a473e8ad3"
      },
      "execution_count": null,
      "outputs": [
        {
          "output_type": "execute_result",
          "data": {
            "text/plain": [
              "4"
            ]
          },
          "metadata": {},
          "execution_count": 148
        }
      ]
    },
    {
      "cell_type": "code",
      "source": [
        "# 1.3.1 딕셔너리 생성 (국가별 코드 확인)\n",
        "countries = {'korea':'kr', \"United State\": \"us\", 'japan': 'jp', 'Taiwan': 'tw'}\n",
        "print(countries)\n",
        "print(len(countries))\n",
        "print(countries['korea'])  # []를 넣어야 함"
      ],
      "metadata": {
        "colab": {
          "base_uri": "https://localhost:8080/"
        },
        "id": "Jq4fxe5_F4Zn",
        "outputId": "5e96fdbf-5a86-47f3-ec83-f37b540be63c"
      },
      "execution_count": null,
      "outputs": [
        {
          "output_type": "stream",
          "name": "stdout",
          "text": [
            "{'korea': 'kr', 'United State': 'us', 'japan': 'jp', 'Taiwan': 'tw'}\n",
            "4\n",
            "kr\n"
          ]
        }
      ]
    },
    {
      "cell_type": "code",
      "source": [
        "print('korea' in countries)"
      ],
      "metadata": {
        "colab": {
          "base_uri": "https://localhost:8080/"
        },
        "id": "DhvRdoJAHXsu",
        "outputId": "9528c9fb-2b76-4333-b21c-e6683d2b50e4"
      },
      "execution_count": null,
      "outputs": [
        {
          "output_type": "stream",
          "name": "stdout",
          "text": [
            "True\n"
          ]
        }
      ]
    },
    {
      "cell_type": "code",
      "source": [
        "print('China' in countries)"
      ],
      "metadata": {
        "colab": {
          "base_uri": "https://localhost:8080/"
        },
        "id": "Z6Tue1q4HXwU",
        "outputId": "59da4367-c56d-4ed8-a144-f77f8449436f"
      },
      "execution_count": null,
      "outputs": [
        {
          "output_type": "stream",
          "name": "stdout",
          "text": [
            "False\n"
          ]
        }
      ]
    },
    {
      "cell_type": "code",
      "source": [
        "# 1.3.3 딕셔너리 쌍(key-value) 추가\n",
        "d1 = {}\n",
        "d1[7] = 'an integer'\n",
        "d1"
      ],
      "metadata": {
        "colab": {
          "base_uri": "https://localhost:8080/"
        },
        "id": "B0jMZ7wwIlAm",
        "outputId": "dcd9c8f5-6adc-47ab-bcb0-f8c66bbcd672"
      },
      "execution_count": null,
      "outputs": [
        {
          "output_type": "execute_result",
          "data": {
            "text/plain": [
              "{7: 'an integer'}"
            ]
          },
          "metadata": {},
          "execution_count": 153
        }
      ]
    },
    {
      "cell_type": "code",
      "source": [
        "# 1.4 집합(set)\n",
        "# 1.4.1 집합 생성\n",
        "#[1] set 함수집합 생성 중복되는 원소는 모두 제거됨\n",
        "a = [2, 2, 2, 1, 3, 3]\n",
        "set(a)"
      ],
      "metadata": {
        "colab": {
          "base_uri": "https://localhost:8080/"
        },
        "id": "_0KXIGUWIlDC",
        "outputId": "51457b1d-825f-437d-de34-7ce73bf10e09"
      },
      "execution_count": null,
      "outputs": [
        {
          "output_type": "execute_result",
          "data": {
            "text/plain": [
              "{1, 2, 3}"
            ]
          },
          "metadata": {},
          "execution_count": 155
        }
      ]
    },
    {
      "cell_type": "code",
      "source": [
        "#[2] 중괄호{} 이용. 위와 같은 결과\n",
        "s = {2, 2, 2, 1, 3, 3}\n",
        "s"
      ],
      "metadata": {
        "colab": {
          "base_uri": "https://localhost:8080/"
        },
        "id": "HU7c80t7IlFV",
        "outputId": "f317bed9-e076-48d6-9f12-f887db782d79"
      },
      "execution_count": null,
      "outputs": [
        {
          "output_type": "execute_result",
          "data": {
            "text/plain": [
              "{1, 2, 3}"
            ]
          },
          "metadata": {},
          "execution_count": 158
        }
      ]
    },
    {
      "cell_type": "code",
      "source": [
        "# 1.4.2 집합의 연산\n",
        "a = {1, 2, 3, 4, 5}\n",
        "b = {3, 4, 5, 6, 7, 8}\n",
        "\n",
        "a.union(b), a | b"
      ],
      "metadata": {
        "colab": {
          "base_uri": "https://localhost:8080/"
        },
        "id": "WM1VcNT9IlJo",
        "outputId": "599b1f28-ed71-49e4-c86f-38d8dda0fa8b"
      },
      "execution_count": null,
      "outputs": [
        {
          "output_type": "execute_result",
          "data": {
            "text/plain": [
              "({1, 2, 3, 4, 5, 6, 7, 8}, {1, 2, 3, 4, 5, 6, 7, 8})"
            ]
          },
          "metadata": {},
          "execution_count": 161
        }
      ]
    },
    {
      "cell_type": "code",
      "source": [
        "# 교집합\n",
        "a = {1, 2, 3, 4, 5}\n",
        "b = {3, 4, 5, 6, 7, 8}\n",
        "\n",
        "a.intersection(b), a & b"
      ],
      "metadata": {
        "colab": {
          "base_uri": "https://localhost:8080/"
        },
        "id": "jQgY_51JIlMG",
        "outputId": "a0584600-6fc7-4804-cc71-1ac12b970e5b"
      },
      "execution_count": 17,
      "outputs": [
        {
          "output_type": "execute_result",
          "data": {
            "text/plain": [
              "({3, 4, 5}, {3, 4, 5})"
            ]
          },
          "metadata": {},
          "execution_count": 17
        }
      ]
    },
    {
      "cell_type": "code",
      "source": [
        "#메서드 대신 대체 문법 사용\n",
        "c = a.copy()\n",
        "c |= b\n",
        "print(c)\n",
        "\n",
        "d = a.copy()\n",
        "d &= b\n",
        "print(d)"
      ],
      "metadata": {
        "colab": {
          "base_uri": "https://localhost:8080/"
        },
        "id": "IWBPBs_CJ_PZ",
        "outputId": "43c76465-0115-46a3-8f3d-9640e72a3169"
      },
      "execution_count": 19,
      "outputs": [
        {
          "output_type": "stream",
          "name": "stdout",
          "text": [
            "{1, 2, 3, 4, 5, 6, 7, 8}\n",
            "{3, 4, 5}\n"
          ]
        }
      ]
    },
    {
      "cell_type": "code",
      "source": [
        "# 1.4.3 집합의 특징\n",
        "my_data = [1, 2, 3, 3, 4]\n",
        "r = set(my_data)\n",
        "print(r)\n",
        "my_set = {tuple(my_data)}\n",
        "print(my_set), print(r)"
      ],
      "metadata": {
        "colab": {
          "base_uri": "https://localhost:8080/"
        },
        "id": "SSeht3p0J_Rk",
        "outputId": "4a90afe2-7aaa-4cf0-c1f4-af6256613b4c"
      },
      "execution_count": null,
      "outputs": [
        {
          "output_type": "stream",
          "name": "stdout",
          "text": [
            "{1, 2, 3, 4}\n",
            "{(1, 2, 3, 3, 4)}\n",
            "{1, 2, 3, 4}\n"
          ]
        },
        {
          "output_type": "execute_result",
          "data": {
            "text/plain": [
              "(None, None)"
            ]
          },
          "metadata": {},
          "execution_count": 171
        }
      ]
    },
    {
      "cell_type": "code",
      "source": [
        "# 1.5 기타 내장 자료형 및 함수\n",
        "#[1]리스트에서 enumerate 사용\n",
        "some_list = ['foo', 'bar', 'baz']\n",
        "for index, value in enumerate(some_list):\n",
        "  print(index, value)\n",
        "\n",
        "print('-'*100)\n",
        "#[2] 딕셔너리에서 enumerate 사용\n",
        "some_dict = {'name' : 'kim', 'age' : 20, 'address' : 'suwon'}\n",
        "#for index, value in enumerate(some_dict):\n",
        "#  print(index, value)\n",
        "for index, dictkey in enumerate(some_dict):\n",
        "   print(index, dictkey)"
      ],
      "metadata": {
        "colab": {
          "base_uri": "https://localhost:8080/"
        },
        "id": "VUlTPCXoJ_Ts",
        "outputId": "e9b6a1cb-be56-43ee-821f-ea4388abdb8b"
      },
      "execution_count": null,
      "outputs": [
        {
          "output_type": "stream",
          "name": "stdout",
          "text": [
            "0 foo\n",
            "1 bar\n",
            "2 baz\n",
            "----------------------------------------------------------------------------------------------------\n",
            "0 name\n",
            "1 age\n",
            "2 address\n"
          ]
        }
      ]
    },
    {
      "cell_type": "code",
      "source": [
        "# 1.5.5 난수 생성(random number generation)\n",
        "# 랜덤 숫자 생성하기\n",
        "import random\n",
        "\n",
        "for roll in range(10):\n",
        "  print(random.randrange(1,7), end=' ')\n",
        "\n",
        "print()\n",
        "front = 0\n",
        "back = 0\n",
        "sample = 10_000 #1000단위 구분은 underbar(_)를 사용할 수 있다\n",
        "for roll in range(sample):\n",
        "  face = random.randrange(0,2) #0이상 2미만\n",
        "  if face == 0:\n",
        "    front += 1\n",
        "  else:\n",
        "    back += 1\n",
        "print(f'{front}')\n",
        "print(f'{back}')\n",
        "\n",
        "#random seed 생성\n",
        "#현재 셀 안에서는 몇번을 다시 실행해도 아래의 결과가 모두 동일할 것이다\n",
        "random.seed(20210617)\n",
        "for roll in range(5):\n",
        "  print(random.randrange(1,7), end=' ')\n",
        "\n",
        "print()\n",
        "for roll in range(5):\n",
        "  print(random.randrange(1,7), end=' ')\n",
        "\n",
        "print()\n",
        "#반면 seed가 설정되지 않은 셀은 실행할때마다 변경된다\n",
        "for roll in range(5):\n",
        "  print(random.randrange(1,7), end=' ')"
      ],
      "metadata": {
        "id": "CEqNdZ-uMigZ",
        "colab": {
          "base_uri": "https://localhost:8080/",
          "height": 0
        },
        "outputId": "d84d4b2c-e195-46ad-cdd9-691b0ef56976"
      },
      "execution_count": 11,
      "outputs": [
        {
          "output_type": "stream",
          "name": "stdout",
          "text": [
            "4 3 2 5 1 6 5 5 1 2 \n",
            "5020\n",
            "4980\n",
            "2 4 5 5 4 \n",
            "6 6 2 5 4 \n",
            "4 4 6 1 1 "
          ]
        }
      ]
    }
  ]
}