{
  "nbformat": 4,
  "nbformat_minor": 0,
  "metadata": {
    "colab": {
      "provenance": [],
      "authorship_tag": "ABX9TyMdFfATmJ4CgFD4zz+A/bao",
      "include_colab_link": true
    },
    "kernelspec": {
      "name": "python3",
      "display_name": "Python 3"
    },
    "language_info": {
      "name": "python"
    }
  },
  "cells": [
    {
      "cell_type": "markdown",
      "metadata": {
        "id": "view-in-github",
        "colab_type": "text"
      },
      "source": [
        "<a href=\"https://colab.research.google.com/github/Bae-SeungKwang/etc/blob/master/%5B2%EC%9E%A5%5D_Python_%EA%B8%B0%EB%B3%B8_240316.ipynb\" target=\"_parent\"><img src=\"https://colab.research.google.com/assets/colab-badge.svg\" alt=\"Open In Colab\"/></a>"
      ]
    },
    {
      "cell_type": "code",
      "source": [
        "# 2.1.2.5 문자역 인덱싱(indexing)\n",
        "string = 'apple'\n",
        "\n",
        "#첫번째 문자(인덱스 0)가져오기\n",
        "print('첫번째문자: ', string[0])\n",
        "\n",
        "#두번째 문자(인덱스 1)가져오기\n",
        "print('두번째문자: ', string[1])\n",
        "\n",
        "length = len(string)\n",
        "print('마지막문자 방법1: ', string[length-1])\n",
        "print('마지막문자 방법2: ', string[-1])\n",
        "print('뒤에서 3번째 문자: ', string[-3])"
      ],
      "metadata": {
        "colab": {
          "base_uri": "https://localhost:8080/"
        },
        "id": "qX27GCjBtoMx",
        "outputId": "f7f3f67e-2cdf-478f-9db4-d26ccc307bfb"
      },
      "execution_count": 13,
      "outputs": [
        {
          "output_type": "stream",
          "name": "stdout",
          "text": [
            "첫번째문자:  a\n",
            "두번째문자:  p\n",
            "마지막문자 방법1:  e\n",
            "마지막문자 방법2:  e\n",
            "뒤에서 3번째 문자:  p\n"
          ]
        }
      ]
    },
    {
      "cell_type": "code",
      "source": [
        "# 2.1.2.5 문자열 슬라이싱(slicing)\n",
        "# 아래 문자에서 'are'만 출력하기\n",
        "string = 'who are you?'\n",
        "# 인덱싱을 활용한 방법\n",
        "new_string1 = string[4] + string[5] + string[6]\n",
        "# 슬라이싱을 활용한 방법\n",
        "new_string2 = string[4:7]\n",
        "new_string1, new_string2"
      ],
      "metadata": {
        "colab": {
          "base_uri": "https://localhost:8080/"
        },
        "id": "A-axqxLivWNx",
        "outputId": "c7b3761d-eff2-48c6-cbef-ec2663c126e4"
      },
      "execution_count": 14,
      "outputs": [
        {
          "output_type": "execute_result",
          "data": {
            "text/plain": [
              "('are', 'are')"
            ]
          },
          "metadata": {},
          "execution_count": 14
        }
      ]
    },
    {
      "cell_type": "code",
      "source": [
        "# 2.1.2.5 문자열 슬라이싱(slicing)\n",
        "string = 'who are you?'\n",
        "\n",
        "#시작 인덱스를 생략하면 문자열의 처음(인덱스 0)부터 시작한다\n",
        "new_string1 = string[:4] #처음부터 인덱스 4미만 까지\n",
        "print(new_string1)\n",
        "print('-'*100)\n",
        "#끝 인덱스를 생략하면 문자열의 끝까지 진행한다\n",
        "new_string2 = string[8:] #인덱스 8에서 끝까지\n",
        "print(new_string2)"
      ],
      "metadata": {
        "colab": {
          "base_uri": "https://localhost:8080/"
        },
        "id": "lfI8cAXJtoKf",
        "outputId": "dab223eb-e10f-4f55-d6b6-0981e627f6c0"
      },
      "execution_count": 16,
      "outputs": [
        {
          "output_type": "stream",
          "name": "stdout",
          "text": [
            "who \n",
            "----------------------------------------------------------------------------------------------------\n",
            "you?\n"
          ]
        }
      ]
    },
    {
      "cell_type": "code",
      "source": [
        "#2.1.2.7 문자열 포맷팅(formatting)\n",
        "#[1]숫자를 문자열에 바로 대입하기\n",
        "string1 = \"i am %d years old\" % 50\n",
        "print(string1)\n",
        "print('-'*100)\n",
        "\n",
        "#[2]숫자를 나타내는 변수로 대입\n",
        "num = 50\n",
        "string2 = \"i am %d years old\" % num\n",
        "print(string2)"
      ],
      "metadata": {
        "colab": {
          "base_uri": "https://localhost:8080/"
        },
        "id": "2wV0gTwgvvZC",
        "outputId": "33441275-3c71-4da0-ad47-6d1c3e95b2cd"
      },
      "execution_count": 18,
      "outputs": [
        {
          "output_type": "stream",
          "name": "stdout",
          "text": [
            "i am 50 years old\n",
            "----------------------------------------------------------------------------------------------------\n",
            "i am 50 years old\n"
          ]
        }
      ]
    },
    {
      "cell_type": "code",
      "source": [
        "#2.1.2.7 문자열 포맷팅(formatting)\n",
        "#[3]문자열을 문자열에 바로 대입하기\n",
        "string3 = \"i am %s years old\" % 'fifty'\n",
        "print(string3)\n",
        "print('-'*100)\n",
        "\n",
        "#[4] 2개 이상의 값 넣기\n",
        "string4 = 'i am %d years %s.' % (50, 'old')\n",
        "print(string4)"
      ],
      "metadata": {
        "colab": {
          "base_uri": "https://localhost:8080/"
        },
        "id": "qEo8CUSjwE0Y",
        "outputId": "fc3ff463-1889-465a-9a7a-4e3d9049a1e2"
      },
      "execution_count": 19,
      "outputs": [
        {
          "output_type": "stream",
          "name": "stdout",
          "text": [
            "i am fifty years old\n",
            "----------------------------------------------------------------------------------------------------\n",
            "i am 50 years old.\n"
          ]
        }
      ]
    },
    {
      "cell_type": "code",
      "source": [
        "#2.1.2.7 문자열 포맷팅(formatting)\n",
        "#소수점 표현하기. 소수점 4째자리까지만 표현(5째자리에서 반올림)\n",
        "\"%0.4f\" % 3.123456"
      ],
      "metadata": {
        "colab": {
          "base_uri": "https://localhost:8080/",
          "height": 35
        },
        "id": "zpDSViwEtoIN",
        "outputId": "5d51fa12-33ab-4193-9fae-0bb8e81df008"
      },
      "execution_count": 20,
      "outputs": [
        {
          "output_type": "execute_result",
          "data": {
            "text/plain": [
              "'3.1235'"
            ],
            "application/vnd.google.colaboratory.intrinsic+json": {
              "type": "string"
            }
          },
          "metadata": {},
          "execution_count": 20
        }
      ]
    },
    {
      "cell_type": "code",
      "source": [
        "#2.1.2.7 문자열 포맷팅(formatting)\n",
        "#format함수를 사용한 포맷팅 -> 이 방법 추천 !!!\n",
        "#숫자\n",
        "string = \"I eat {0} apples\".format(3)\n",
        "print(string)\n",
        "print('-'*100)\n",
        "\n",
        "#변수\n",
        "num = 3\n",
        "string = \"I eat {0} apples\".format(num)\n",
        "print(string)\n",
        "print('-'*100)\n",
        "\n",
        "#문자열\n",
        "string = \"I eat {0} apples\".format('three')\n",
        "print(string)"
      ],
      "metadata": {
        "colab": {
          "base_uri": "https://localhost:8080/"
        },
        "id": "9YfuJJMQtoC3",
        "outputId": "b8fedd9f-7d09-4659-a6f7-8a5cbbf6507b"
      },
      "execution_count": 22,
      "outputs": [
        {
          "output_type": "stream",
          "name": "stdout",
          "text": [
            "I eat 3 apples\n",
            "----------------------------------------------------------------------------------------------------\n",
            "I eat 3 apples\n",
            "----------------------------------------------------------------------------------------------------\n",
            "I eat three apples\n"
          ]
        }
      ]
    },
    {
      "cell_type": "code",
      "source": [
        "# 2개 이상의 값 넣기\n",
        "string = \"I eat {0} {1}\".format(3, 'bananas')\n",
        "print(string)\n",
        "print('-'*100)\n",
        "\n",
        "# 이름으로 넣기 (중요한 방법!!! )\n",
        "string = \"I eat {number} {name}\".format(number=3, name='orange')\n",
        "print(string)"
      ],
      "metadata": {
        "colab": {
          "base_uri": "https://localhost:8080/"
        },
        "id": "H7tPVvGew_gu",
        "outputId": "30a33c5c-c57f-48a5-ac63-af2bb52a25b6"
      },
      "execution_count": 26,
      "outputs": [
        {
          "output_type": "stream",
          "name": "stdout",
          "text": [
            "I eat 3 bananas\n",
            "----------------------------------------------------------------------------------------------------\n",
            "I eat 3 orange\n"
          ]
        }
      ]
    },
    {
      "cell_type": "code",
      "source": [
        "# 2.1.2.8 문자열 정렬 (생략)"
      ],
      "metadata": {
        "id": "PpARsHEOw_pW"
      },
      "execution_count": null,
      "outputs": []
    },
    {
      "cell_type": "code",
      "source": [
        "# 2.1.2.9 문자열 관련 함수들\n",
        "#문자 개수 세기\n",
        "string = 'apple'\n",
        "string.count('p')\n",
        "#string.capitalize?\n",
        "#string.count('a')"
      ],
      "metadata": {
        "colab": {
          "base_uri": "https://localhost:8080/"
        },
        "id": "Qxkg9kV9w_rl",
        "outputId": "d4d1807e-2e95-4e8b-84c5-5e3a304fcf57"
      },
      "execution_count": 31,
      "outputs": [
        {
          "output_type": "execute_result",
          "data": {
            "text/plain": [
              "2"
            ]
          },
          "metadata": {},
          "execution_count": 31
        }
      ]
    },
    {
      "cell_type": "code",
      "source": [
        "#위치 알려주기1(find)\n",
        "string = 'apple'\n",
        "print('index is ', string.find('l'))\n",
        "\n",
        "#찾는 문자가 여러개이면 가장 처음에 나온 문자의 인덱스를 반환\n",
        "print('first string for \"p\"?', string.find('p'))\n",
        "\n",
        "#존재하지 않는다면 -1을 반환\n",
        "print(string.find('u'))"
      ],
      "metadata": {
        "colab": {
          "base_uri": "https://localhost:8080/"
        },
        "id": "HFD-EmQ2w_tw",
        "outputId": "a2cceab5-e5a7-4da6-9efd-f5e996344bd0"
      },
      "execution_count": 33,
      "outputs": [
        {
          "output_type": "stream",
          "name": "stdout",
          "text": [
            "index is  3\n",
            "first string for \"p\"? 1\n",
            "-1\n"
          ]
        }
      ]
    },
    {
      "cell_type": "code",
      "source": [
        "#위치 알려주기2(index)\n",
        "string = 'apple'\n",
        "print(string.index('a'))\n",
        "\n",
        "#찾는 문자가 여러개이면 가장 처음에 나온 문자의 인덱스를 반환\n",
        "print(string.index('p'))"
      ],
      "metadata": {
        "colab": {
          "base_uri": "https://localhost:8080/"
        },
        "id": "xAWKtLCuw_wE",
        "outputId": "001dcb5f-41fb-4623-9546-38c7d861acb6"
      },
      "execution_count": 38,
      "outputs": [
        {
          "output_type": "stream",
          "name": "stdout",
          "text": [
            "0\n",
            "1\n"
          ]
        }
      ]
    },
    {
      "cell_type": "code",
      "source": [
        "#문자열 삽입(join)\n",
        "#'구분자'.join(적용할 문자열) 형식으로 사용한다\n",
        "# 아래의 예제는 문자열 사이에 각각 구분자인 $를 넣는다\n",
        "string = \"$\".join('apple')\n",
        "print(string)\n",
        "\n",
        "# 콤마(,)로 문자열 구분하기\n",
        "string = \",\".join('apple')\n",
        "print(string)"
      ],
      "metadata": {
        "colab": {
          "base_uri": "https://localhost:8080/"
        },
        "id": "9sfBe1ycw_yQ",
        "outputId": "c1037f0e-2e5b-49ba-cbf4-0bbf6720eae4"
      },
      "execution_count": 40,
      "outputs": [
        {
          "output_type": "stream",
          "name": "stdout",
          "text": [
            "a$p$p$l$e\n",
            "a,p,p,l,e\n"
          ]
        }
      ]
    },
    {
      "cell_type": "code",
      "source": [
        "#소문자를 대문자로 바꾸기(upper)\n",
        "string = 'apple'\n",
        "print(string.upper())\n",
        "\n",
        "# 대문자를 소문자로 바꾸기(lower)\n",
        "string = 'APPLE'\n",
        "print(string.lower())"
      ],
      "metadata": {
        "colab": {
          "base_uri": "https://localhost:8080/"
        },
        "id": "fTdBzrLFw_0b",
        "outputId": "4cd4449c-14b0-4734-a3ba-f731340fc3f9"
      },
      "execution_count": 43,
      "outputs": [
        {
          "output_type": "stream",
          "name": "stdout",
          "text": [
            "APPLE\n",
            "apple\n"
          ]
        }
      ]
    },
    {
      "cell_type": "code",
      "source": [
        "#왼쪽 공백 지우기(lstrip)\n",
        "string = ' apple '\n",
        "print(string.lstrip())\n",
        "#오른쪽 공백 지우기(rstrip)\n",
        "print(string.rstrip())\n",
        "#양쪽 공백 지우기(strip)\n",
        "print(string.strip())"
      ],
      "metadata": {
        "colab": {
          "base_uri": "https://localhost:8080/"
        },
        "id": "4ahJ4yfszf6z",
        "outputId": "0be5870f-7c19-44fd-ef6e-b81878f4d676"
      },
      "execution_count": 44,
      "outputs": [
        {
          "output_type": "stream",
          "name": "stdout",
          "text": [
            "apple \n",
            " apple\n",
            "apple\n"
          ]
        }
      ]
    },
    {
      "cell_type": "code",
      "source": [
        "#문자열 바꾸기(replace)  *많이 사용됨\n",
        "string = 'apple is fruit'\n",
        "string.replace('apple', 'banana')"
      ],
      "metadata": {
        "colab": {
          "base_uri": "https://localhost:8080/",
          "height": 35
        },
        "id": "Uhky4n9fzgBx",
        "outputId": "cbdab2e7-74f1-4199-8ab7-ba2b281a3f3b"
      },
      "execution_count": 45,
      "outputs": [
        {
          "output_type": "execute_result",
          "data": {
            "text/plain": [
              "'banana is fruit'"
            ],
            "application/vnd.google.colaboratory.intrinsic+json": {
              "type": "string"
            }
          },
          "metadata": {},
          "execution_count": 45
        }
      ]
    },
    {
      "cell_type": "code",
      "source": [
        "#문자열 나누기(split)\n",
        "#split 함수는 인자를 기준으로 문자열을 나눈다\n",
        "string = 'apple is fruit'\n",
        "print(string.split())\n",
        "\n",
        "#split함수에 인자를 넣어주면 인자를 기준으로 문자열을 나눈다\n",
        "string = 'a:b:c:d'\n",
        "print(string.split(':'))\n",
        "\n",
        "#여러줄로 표현된 문자열 읽어들이기\n",
        "string = '''\n",
        "he said\n",
        "who are you\n",
        "i am your father\n",
        "'''\n",
        "string.split('\\n')"
      ],
      "metadata": {
        "colab": {
          "base_uri": "https://localhost:8080/"
        },
        "id": "4NLEiO6UzgD4",
        "outputId": "b4ee726f-200c-407a-a2fa-073e5bd8b972"
      },
      "execution_count": 48,
      "outputs": [
        {
          "output_type": "stream",
          "name": "stdout",
          "text": [
            "['apple', 'is', 'fruit']\n",
            "['a', 'b', 'c', 'd']\n"
          ]
        },
        {
          "output_type": "execute_result",
          "data": {
            "text/plain": [
              "['', 'he said', 'who are you', 'i am your father', '']"
            ]
          },
          "metadata": {},
          "execution_count": 48
        }
      ]
    },
    {
      "cell_type": "code",
      "source": [
        "#문자열 형변환.\n",
        "a = 5.6\n",
        "a?\n",
        "s = str(a) #str 함수를 사용하면 문자열로 변경가능하다\n",
        "print(s)\n",
        "#s?\n"
      ],
      "metadata": {
        "colab": {
          "base_uri": "https://localhost:8080/"
        },
        "id": "ezkHPpuWzgGB",
        "outputId": "665411be-88cc-490e-a75f-28687385c2ab"
      },
      "execution_count": 49,
      "outputs": [
        {
          "output_type": "stream",
          "name": "stdout",
          "text": [
            "5.6\n"
          ]
        }
      ]
    },
    {
      "cell_type": "code",
      "source": [
        "#문자열 --> 리스트 변환\n",
        "s = 'python'\n",
        "list(s) #리스트로 변환하는 경우 한글자씩 잘라서 원소로 변환한다"
      ],
      "metadata": {
        "colab": {
          "base_uri": "https://localhost:8080/"
        },
        "id": "rS-Gd3FDzgIO",
        "outputId": "8b48c2b1-e7bd-4c69-ee3f-3e17c43997f3"
      },
      "execution_count": 50,
      "outputs": [
        {
          "output_type": "execute_result",
          "data": {
            "text/plain": [
              "['p', 'y', 't', 'h', 'o', 'n']"
            ]
          },
          "metadata": {},
          "execution_count": 50
        }
      ]
    },
    {
      "cell_type": "code",
      "source": [
        "# '\\' 기호를 문자열 안에 넣고 싶은 경우 \\ 2개를 넣어주어야 한다\n",
        "s = '12\\\\34'\n",
        "print(s)"
      ],
      "metadata": {
        "colab": {
          "base_uri": "https://localhost:8080/"
        },
        "id": "LASbwfi8zgKH",
        "outputId": "166fcdc2-5dee-4ac4-f7eb-8401c9e0adf9"
      },
      "execution_count": 51,
      "outputs": [
        {
          "output_type": "stream",
          "name": "stdout",
          "text": [
            "12\\34\n"
          ]
        }
      ]
    },
    {
      "cell_type": "code",
      "source": [
        "# 2.1.3 Booleans(불리언)\n",
        "condition1 = (1 == 1)\n",
        "condition2 = (2 > 1)\n",
        "condition3 = (2 < 1)\n",
        "condition1, condition2, condition3"
      ],
      "metadata": {
        "colab": {
          "base_uri": "https://localhost:8080/"
        },
        "id": "E9mzBUst0K07",
        "outputId": "2a328daa-2a19-45a9-b340-14487a35be6f"
      },
      "execution_count": 52,
      "outputs": [
        {
          "output_type": "execute_result",
          "data": {
            "text/plain": [
              "(True, True, False)"
            ]
          },
          "metadata": {},
          "execution_count": 52
        }
      ]
    },
    {
      "cell_type": "code",
      "source": [
        "# 2.1.3 Booleans(불리언)\n",
        "# 파이썬 자료형의 참과 거짓을 구분하는 기준으로 짚고 넘어감 (중간고사 프로젝트 !!!!!!!!!!!!!!!!!!!!!!!)\n",
        "conditions = ['python', \"\", [1,2,3,], [], (), {}, 1, 0, None]\n",
        "for condition in conditions :\n",
        "  if condition:\n",
        "    print(condition, True)\n",
        "  else:\n",
        "    print(condition, False)"
      ],
      "metadata": {
        "colab": {
          "base_uri": "https://localhost:8080/"
        },
        "id": "gqJFxT0H0K3D",
        "outputId": "84b38520-3cdb-459b-dd8d-40bd8d9a4f87"
      },
      "execution_count": 55,
      "outputs": [
        {
          "output_type": "stream",
          "name": "stdout",
          "text": [
            "python True\n",
            " False\n",
            "[1, 2, 3] True\n",
            "[] False\n",
            "() False\n",
            "{} False\n",
            "1 True\n",
            "0 False\n",
            "None False\n"
          ]
        }
      ]
    },
    {
      "cell_type": "code",
      "source": [
        "# 2.1.5 None\n",
        "# None이란 값이 없는 변수를 나타내는 자료형\n",
        "scores = {'1번 학생': 40, '2번 학생': 60, '3번 학생': None}\n",
        "scores"
      ],
      "metadata": {
        "colab": {
          "base_uri": "https://localhost:8080/"
        },
        "id": "rsxOGCzG0K5P",
        "outputId": "4f62cd4f-435e-4f7c-9e89-c8a382b67d05"
      },
      "execution_count": 57,
      "outputs": [
        {
          "output_type": "execute_result",
          "data": {
            "text/plain": [
              "{'1번 학생': 40, '2번 학생': 60, '3번 학생': None}"
            ]
          },
          "metadata": {},
          "execution_count": 57
        }
      ]
    },
    {
      "cell_type": "code",
      "source": [
        "#[2] 값이 '없음' 인 경우\n",
        "#결혼 여부를 판단하는 경우\n",
        "#아래의 경우 장길산은 결혼하지 않았음을 나타낼 수 있다\n",
        "marriage = {'홍길동':'김영희', '김철수':'김희영', '장길산': None}\n",
        "for key, value in marriage.items():\n",
        "  if marriage[key] is None:\n",
        "    print(key, '는 미혼임')\n",
        "  else:\n",
        "    print(key, '는', marriage[key], '와 결혼함')"
      ],
      "metadata": {
        "colab": {
          "base_uri": "https://localhost:8080/"
        },
        "id": "wPhBCKXq0K7g",
        "outputId": "d542618b-2872-4c65-bcd7-f236c6e537b5"
      },
      "execution_count": 62,
      "outputs": [
        {
          "output_type": "stream",
          "name": "stdout",
          "text": [
            "홍길동 는 김영희 와 결혼함\n",
            "김철수 는 김희영 와 결혼함\n",
            "장길산 는 미혼임\n"
          ]
        }
      ]
    },
    {
      "cell_type": "code",
      "source": [
        "#[3] 값이 정의되지 않은 경우\n",
        "def add(x,y):\n",
        "  return None\n",
        "\n",
        "result = add(3,4)\n",
        "print(result)"
      ],
      "metadata": {
        "colab": {
          "base_uri": "https://localhost:8080/"
        },
        "id": "3xSok4Tp0K94",
        "outputId": "22443527-117a-48c1-d973-fab8e1c573b4"
      },
      "execution_count": 64,
      "outputs": [
        {
          "output_type": "stream",
          "name": "stdout",
          "text": [
            "None\n"
          ]
        }
      ]
    },
    {
      "cell_type": "code",
      "source": [
        "#2.1.6 Dates and times(날짜와 시간)\n",
        "from datetime import datetime, date, time\n",
        "dt = datetime(2021, 5, 16, 20, 30, 21)\n",
        "#연, 월, 일, 시, 분, 초의 경우 dt의 속성(attribute)으로 접근할 수 있다\n",
        "dt.year, dt.month, dt.day, dt.hour, dt.minute, dt.second"
      ],
      "metadata": {
        "colab": {
          "base_uri": "https://localhost:8080/"
        },
        "id": "TCP9eXF_2fCB",
        "outputId": "7a067370-4402-4e10-9c6d-e8c987ba1581"
      },
      "execution_count": 66,
      "outputs": [
        {
          "output_type": "execute_result",
          "data": {
            "text/plain": [
              "(2021, 5, 16, 20, 30, 21)"
            ]
          },
          "metadata": {},
          "execution_count": 66
        }
      ]
    },
    {
      "cell_type": "code",
      "source": [
        "#연, 월, 일만 확인하고자 하는 경우\n",
        "print(dt.date())\n",
        "#시, 분, 초만 확인하고자 하는 경우\n",
        "print(dt.time())"
      ],
      "metadata": {
        "colab": {
          "base_uri": "https://localhost:8080/"
        },
        "id": "rkcPv7sv238a",
        "outputId": "c6d322a7-7172-4092-a354-4463c77a88cf"
      },
      "execution_count": 67,
      "outputs": [
        {
          "output_type": "stream",
          "name": "stdout",
          "text": [
            "2021-05-16\n",
            "20:30:21\n"
          ]
        }
      ]
    },
    {
      "cell_type": "code",
      "source": [
        "# 2.1.7 확인 문제\n",
        "# Q1. 아래 자동차 번호의 뒤의 4자리만 출력\n",
        "license_plate = \"24가 2210\"\n",
        "print(license_plate[-4:])"
      ],
      "metadata": {
        "colab": {
          "base_uri": "https://localhost:8080/"
        },
        "id": "DwGwtHPz2fJM",
        "outputId": "568cc426-20ee-4c85-a201-498f0ef5ba81"
      },
      "execution_count": 70,
      "outputs": [
        {
          "output_type": "stream",
          "name": "stdout",
          "text": [
            "2210\n"
          ]
        }
      ]
    },
    {
      "cell_type": "code",
      "source": [
        "# 2.1.7 확인 문제\n",
        "# Q2 아래의 문자열에서 '홀'만 출력\n",
        "string = '홀짝홀짝홀짝홀짝'\n",
        "print(string[::2])\n",
        "print(string[2::2]) #test\n",
        "print(string[1::3]) #test"
      ],
      "metadata": {
        "colab": {
          "base_uri": "https://localhost:8080/"
        },
        "id": "2gSel6ne2fLW",
        "outputId": "ea66c514-d6f0-4ea3-eb7b-6a6feeaeaea8"
      },
      "execution_count": 92,
      "outputs": [
        {
          "output_type": "stream",
          "name": "stdout",
          "text": [
            "홀홀홀홀\n",
            "홀홀홀\n",
            "짝홀짝\n"
          ]
        }
      ]
    },
    {
      "cell_type": "code",
      "source": [
        "# 2.1.7 확인 문제\n",
        "# Q3 문자열을 거꾸로 뒤집어 출력\n",
        "string = 'python'\n",
        "print(string[::-1])"
      ],
      "metadata": {
        "colab": {
          "base_uri": "https://localhost:8080/"
        },
        "id": "TyPvRwBj2fNz",
        "outputId": "7c828689-255d-4aa4-ac1c-0cbf8eb83fae"
      },
      "execution_count": 79,
      "outputs": [
        {
          "output_type": "stream",
          "name": "stdout",
          "text": [
            "nohtyp\n"
          ]
        }
      ]
    },
    {
      "cell_type": "code",
      "source": [
        "# 2.1.7 확인 문제\n",
        "# Q4 아래 전화번호에서 하이픈('-')을 제거하고 출력\n",
        "phone_number = '010-1111-2222'\n",
        "print(phone_number.replace('-', ' '))"
      ],
      "metadata": {
        "colab": {
          "base_uri": "https://localhost:8080/"
        },
        "id": "dh1Irx5yP51Q",
        "outputId": "f46a75be-2540-40f2-ce36-68320eb25e98"
      },
      "execution_count": 80,
      "outputs": [
        {
          "output_type": "stream",
          "name": "stdout",
          "text": [
            "010 1111 2222\n"
          ]
        }
      ]
    },
    {
      "cell_type": "code",
      "source": [
        "# 2.1.7 확인 문제\n",
        "# Q5 아래 변수에 할당된 값의 타입을 판별\n",
        "\n",
        "a = '123'\n",
        "b = 123\n",
        "c = 123.0\n",
        "\n",
        "type_a = type(a)\n",
        "type_b = type(b)\n",
        "type_c = type(c)\n",
        "\n",
        "print(\"변수 a 타입:\", type_a)\n",
        "print(\"변수 b 타입:\", type_b)\n",
        "print(\"변수 c 타입:\", type_c)"
      ],
      "metadata": {
        "colab": {
          "base_uri": "https://localhost:8080/"
        },
        "id": "DfNiEcp_RM57",
        "outputId": "8de5d2ce-f42f-4636-8540-e3ad8cf50d9f"
      },
      "execution_count": null,
      "outputs": [
        {
          "output_type": "stream",
          "name": "stdout",
          "text": [
            "변수 a 타입: <class 'str'>\n",
            "변수 b 타입: <class 'int'>\n",
            "변수 c 타입: <class 'float'>\n"
          ]
        }
      ]
    },
    {
      "cell_type": "code",
      "source": [
        "# 2.1.7 확인 문제\n",
        "# Q5 다음의 요구조건에 따라 타입을 변경\n",
        "#   1. 문자열(정수)은 정수로 변환\n",
        "#   2. 정수는 문자열로 변환\n",
        "#   3. 문자열(실수)는 실수로 변환\n",
        "\n",
        "var1 = '720'\n",
        "var2 = 100\n",
        "var3 = '700.0'\n",
        "\n",
        "var1 = int(var1) # 문자열(정수)은 정수로 변환\n",
        "var2 = str(var2) # 정수는 문자열로 변환\n",
        "var3 = float(var3) # 문자열(실수)는 실수로 변환\n",
        "\n",
        "print(\"변환된 var1의 타입:\", type(var1))\n",
        "print(\"변환된 var2의 타입:\", type(var2))\n",
        "print(\"변환된 var3의 타입:\", type(var3))"
      ],
      "metadata": {
        "colab": {
          "base_uri": "https://localhost:8080/"
        },
        "id": "5jqER8onTZH9",
        "outputId": "2808b159-9cb7-42f3-f83f-2bb40d53e910"
      },
      "execution_count": null,
      "outputs": [
        {
          "output_type": "stream",
          "name": "stdout",
          "text": [
            "변환된 var1의 타입: <class 'int'>\n",
            "변환된 var2의 타입: <class 'str'>\n",
            "변환된 var3의 타입: <class 'float'>\n"
          ]
        }
      ]
    },
    {
      "cell_type": "code",
      "source": [
        "# 2.2.5 확인 문제\n",
        "# Q1. 아래 코드의 출력 결과를 예상해보세요\n",
        "\n",
        "if True :\n",
        "   if False :\n",
        "       print(\"1\")\n",
        "       print(\"2\")\n",
        "   else :\n",
        "       print(\"3\")\n",
        "else :\n",
        "   print(\"4\")\n",
        "print(\"5\")"
      ],
      "metadata": {
        "colab": {
          "base_uri": "https://localhost:8080/"
        },
        "id": "BqrukDGRi4Z8",
        "outputId": "fe89918c-cf93-4ec5-afd9-aa60b50c842c"
      },
      "execution_count": null,
      "outputs": [
        {
          "output_type": "stream",
          "name": "stdout",
          "text": [
            "3\n",
            "5\n"
          ]
        }
      ]
    },
    {
      "cell_type": "code",
      "source": [
        "# 2.2.5 확인 문제\n",
        "# Q2. 사용자로부터 값을 입력받은 후 해당 값에 20을 더한 값을 출력\n",
        "# 단 사용자가 입력한 값과 20을 더한 계산 값이 255를 초과하는 경우 255를 출력함\n",
        "\n",
        "user_input = int(input(\"값을 입력하세요: \"))  # 사용자로부터 정수 값 입력 받기\n",
        "\n",
        "result = user_input + 20  # 입력값에 20을 더하기\n",
        "\n",
        "# 계산 결과가 255를 초과하는지 확인하여 조정\n",
        "if result > 255:\n",
        "    result = 255\n",
        "\n",
        "print(\"결과:\", result)"
      ],
      "metadata": {
        "colab": {
          "base_uri": "https://localhost:8080/"
        },
        "id": "lLT03JK0lhSE",
        "outputId": "c4a4e5a7-1808-4545-db83-1226b6ec01de"
      },
      "execution_count": null,
      "outputs": [
        {
          "output_type": "stream",
          "name": "stdout",
          "text": [
            "값을 입력하세요: 20\n",
            "결과: 40\n"
          ]
        }
      ]
    },
    {
      "cell_type": "code",
      "source": [
        "# 2.2.5 확인 문제\n",
        "#Q3. 사용자로부터 문자 1개를 입력받고 소문자인 경우 대문자로, 대문자인 경우 소문자로 변경해서 출력하세요.\n",
        "\n",
        "user_input = input(\"문자 1개를 입력하세요: \")  # 사용자로부터 문자 입력 받기\n",
        "\n",
        "# 대문자인 경우 소문자로, 소문자인 경우 대문자로 변경하여 출력\n",
        "if user_input.islower():\n",
        "    print(user_input.upper())\n",
        "elif user_input.isupper():\n",
        "    print(user_input.lower())\n",
        "else:\n",
        "    print(\"알파벳 문자를 입력하세요.\")"
      ],
      "metadata": {
        "colab": {
          "base_uri": "https://localhost:8080/"
        },
        "id": "lple24gHoJIr",
        "outputId": "b4edac74-9ca6-403c-c491-fe431285d666"
      },
      "execution_count": null,
      "outputs": [
        {
          "output_type": "stream",
          "name": "stdout",
          "text": [
            "문자 1개를 입력하세요: A\n",
            "a\n"
          ]
        }
      ]
    },
    {
      "cell_type": "code",
      "source": [
        "# 2.2.5 확인 문제\n",
        "# Q4. 점수 구간에 해당하는 학점이 아래와 같이 정의되어 있다. 사용자로부터 score를 입력받아 학점을 출력하라\n",
        "#점수   학점\n",
        "#--------------\n",
        "#80-100   A\n",
        "#61-80    B\n",
        "#41-60    C\n",
        "#21-40    D\n",
        "#0-20     E\n",
        "\n",
        "score = int(input(\"점수를 입력하세요: \"))  # 사용자로부터 점수 입력 받기\n",
        "\n",
        "# 학점 판별\n",
        "if score >= 80 and score <= 100:\n",
        "    grade = \"A\"\n",
        "elif score >= 61 and score <= 80:\n",
        "    grade = \"B\"\n",
        "elif score >= 41 and score <= 60:\n",
        "    grade = \"C\"\n",
        "elif score >= 21 and score <= 40:\n",
        "    grade = \"D\"\n",
        "elif score >= 0 and score <= 20:\n",
        "    grade = \"E\"\n",
        "else:\n",
        "    grade = \"유효하지 않은 점수입니다.\"\n",
        "\n",
        "print(\"학점:\", grade)\n"
      ],
      "metadata": {
        "colab": {
          "base_uri": "https://localhost:8080/"
        },
        "id": "JWGa6hGhpDPe",
        "outputId": "baf14f8b-1f04-4882-a388-7e87010b8285"
      },
      "execution_count": null,
      "outputs": [
        {
          "output_type": "stream",
          "name": "stdout",
          "text": [
            "점수를 입력하세요: 40\n",
            "학점: D\n"
          ]
        }
      ]
    }
  ]
}